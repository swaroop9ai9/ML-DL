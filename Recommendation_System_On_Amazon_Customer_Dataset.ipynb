{
 "cells": [
  {
   "cell_type": "markdown",
   "metadata": {},
   "source": [
    "# Recommendation Systems_R5_Project1"
   ]
  },
  {
   "cell_type": "markdown",
   "metadata": {},
   "source": [
    "# Recommendation system for products on an e-commerce website like Amazon.com."
   ]
  },
  {
   "cell_type": "markdown",
   "metadata": {},
   "source": [
    "### Import Python Libraries"
   ]
  },
  {
   "cell_type": "code",
   "execution_count": 1,
   "metadata": {},
   "outputs": [],
   "source": [
    "import pandas as pd\n",
    "import numpy as np\n",
    "import random\n",
    "import time\n",
    "\n",
    "import matplotlib.pyplot as plt \n",
    "plt.rc(\"font\", size=14)\n",
    "import pylab as pl\n",
    "\n",
    "import seaborn as sns\n",
    "sns.set(style=\"white\")\n",
    "sns.set(style=\"darkgrid\", color_codes=True)\n",
    "\n",
    "from sklearn.model_selection import train_test_split\n",
    "from sklearn.metrics import mean_squared_error, accuracy_score, precision_score, recall_score, f1_score\n",
    "from sklearn.metrics import roc_auc_score, roc_curve"
   ]
  },
  {
   "cell_type": "markdown",
   "metadata": {},
   "source": [
    "## Problem Statement :\n",
    "## Build Popularity Recommender model and Collaborative Filtering model "
   ]
  },
  {
   "cell_type": "markdown",
   "metadata": {},
   "source": [
    "### Load data and read and analyze the data"
   ]
  },
  {
   "cell_type": "code",
   "execution_count": 2,
   "metadata": {},
   "outputs": [],
   "source": [
    "data = pd.read_csv(\"ratings_Electronics.csv\", names=['userId', 'productId', 'ratings', 'timestamp'])"
   ]
  },
  {
   "cell_type": "code",
   "execution_count": 3,
   "metadata": {},
   "outputs": [
    {
     "data": {
      "text/plain": [
       "(7824482, 4)"
      ]
     },
     "execution_count": 3,
     "metadata": {},
     "output_type": "execute_result"
    }
   ],
   "source": [
    "data.shape"
   ]
  },
  {
   "cell_type": "code",
   "execution_count": 4,
   "metadata": {},
   "outputs": [
    {
     "data": {
      "text/plain": [
       "userId        object\n",
       "productId     object\n",
       "ratings      float64\n",
       "timestamp      int64\n",
       "dtype: object"
      ]
     },
     "execution_count": 4,
     "metadata": {},
     "output_type": "execute_result"
    }
   ],
   "source": [
    "data.dtypes"
   ]
  },
  {
   "cell_type": "code",
   "execution_count": 5,
   "metadata": {},
   "outputs": [
    {
     "data": {
      "text/html": [
       "<div>\n",
       "<style scoped>\n",
       "    .dataframe tbody tr th:only-of-type {\n",
       "        vertical-align: middle;\n",
       "    }\n",
       "\n",
       "    .dataframe tbody tr th {\n",
       "        vertical-align: top;\n",
       "    }\n",
       "\n",
       "    .dataframe thead th {\n",
       "        text-align: right;\n",
       "    }\n",
       "</style>\n",
       "<table border=\"1\" class=\"dataframe\">\n",
       "  <thead>\n",
       "    <tr style=\"text-align: right;\">\n",
       "      <th></th>\n",
       "      <th>userId</th>\n",
       "      <th>productId</th>\n",
       "      <th>ratings</th>\n",
       "      <th>timestamp</th>\n",
       "    </tr>\n",
       "  </thead>\n",
       "  <tbody>\n",
       "    <tr>\n",
       "      <th>0</th>\n",
       "      <td>AKM1MP6P0OYPR</td>\n",
       "      <td>0132793040</td>\n",
       "      <td>5.0</td>\n",
       "      <td>1365811200</td>\n",
       "    </tr>\n",
       "    <tr>\n",
       "      <th>1</th>\n",
       "      <td>A2CX7LUOHB2NDG</td>\n",
       "      <td>0321732944</td>\n",
       "      <td>5.0</td>\n",
       "      <td>1341100800</td>\n",
       "    </tr>\n",
       "    <tr>\n",
       "      <th>2</th>\n",
       "      <td>A2NWSAGRHCP8N5</td>\n",
       "      <td>0439886341</td>\n",
       "      <td>1.0</td>\n",
       "      <td>1367193600</td>\n",
       "    </tr>\n",
       "    <tr>\n",
       "      <th>3</th>\n",
       "      <td>A2WNBOD3WNDNKT</td>\n",
       "      <td>0439886341</td>\n",
       "      <td>3.0</td>\n",
       "      <td>1374451200</td>\n",
       "    </tr>\n",
       "    <tr>\n",
       "      <th>4</th>\n",
       "      <td>A1GI0U4ZRJA8WN</td>\n",
       "      <td>0439886341</td>\n",
       "      <td>1.0</td>\n",
       "      <td>1334707200</td>\n",
       "    </tr>\n",
       "  </tbody>\n",
       "</table>\n",
       "</div>"
      ],
      "text/plain": [
       "           userId   productId  ratings   timestamp\n",
       "0   AKM1MP6P0OYPR  0132793040      5.0  1365811200\n",
       "1  A2CX7LUOHB2NDG  0321732944      5.0  1341100800\n",
       "2  A2NWSAGRHCP8N5  0439886341      1.0  1367193600\n",
       "3  A2WNBOD3WNDNKT  0439886341      3.0  1374451200\n",
       "4  A1GI0U4ZRJA8WN  0439886341      1.0  1334707200"
      ]
     },
     "execution_count": 5,
     "metadata": {},
     "output_type": "execute_result"
    }
   ],
   "source": [
    "data.head(5)"
   ]
  },
  {
   "cell_type": "code",
   "execution_count": 6,
   "metadata": {},
   "outputs": [
    {
     "data": {
      "text/html": [
       "<div>\n",
       "<style scoped>\n",
       "    .dataframe tbody tr th:only-of-type {\n",
       "        vertical-align: middle;\n",
       "    }\n",
       "\n",
       "    .dataframe tbody tr th {\n",
       "        vertical-align: top;\n",
       "    }\n",
       "\n",
       "    .dataframe thead th {\n",
       "        text-align: right;\n",
       "    }\n",
       "</style>\n",
       "<table border=\"1\" class=\"dataframe\">\n",
       "  <thead>\n",
       "    <tr style=\"text-align: right;\">\n",
       "      <th></th>\n",
       "      <th>userId</th>\n",
       "      <th>productId</th>\n",
       "      <th>ratings</th>\n",
       "      <th>timestamp</th>\n",
       "    </tr>\n",
       "  </thead>\n",
       "  <tbody>\n",
       "    <tr>\n",
       "      <th>7824477</th>\n",
       "      <td>A2YZI3C9MOHC0L</td>\n",
       "      <td>BT008UKTMW</td>\n",
       "      <td>5.0</td>\n",
       "      <td>1396569600</td>\n",
       "    </tr>\n",
       "    <tr>\n",
       "      <th>7824478</th>\n",
       "      <td>A322MDK0M89RHN</td>\n",
       "      <td>BT008UKTMW</td>\n",
       "      <td>5.0</td>\n",
       "      <td>1313366400</td>\n",
       "    </tr>\n",
       "    <tr>\n",
       "      <th>7824479</th>\n",
       "      <td>A1MH90R0ADMIK0</td>\n",
       "      <td>BT008UKTMW</td>\n",
       "      <td>4.0</td>\n",
       "      <td>1404172800</td>\n",
       "    </tr>\n",
       "    <tr>\n",
       "      <th>7824480</th>\n",
       "      <td>A10M2KEFPEQDHN</td>\n",
       "      <td>BT008UKTMW</td>\n",
       "      <td>4.0</td>\n",
       "      <td>1297555200</td>\n",
       "    </tr>\n",
       "    <tr>\n",
       "      <th>7824481</th>\n",
       "      <td>A2G81TMIOIDEQQ</td>\n",
       "      <td>BT008V9J9U</td>\n",
       "      <td>5.0</td>\n",
       "      <td>1312675200</td>\n",
       "    </tr>\n",
       "  </tbody>\n",
       "</table>\n",
       "</div>"
      ],
      "text/plain": [
       "                 userId   productId  ratings   timestamp\n",
       "7824477  A2YZI3C9MOHC0L  BT008UKTMW      5.0  1396569600\n",
       "7824478  A322MDK0M89RHN  BT008UKTMW      5.0  1313366400\n",
       "7824479  A1MH90R0ADMIK0  BT008UKTMW      4.0  1404172800\n",
       "7824480  A10M2KEFPEQDHN  BT008UKTMW      4.0  1297555200\n",
       "7824481  A2G81TMIOIDEQQ  BT008V9J9U      5.0  1312675200"
      ]
     },
     "execution_count": 6,
     "metadata": {},
     "output_type": "execute_result"
    }
   ],
   "source": [
    "data.tail(5)"
   ]
  },
  {
   "cell_type": "code",
   "execution_count": 7,
   "metadata": {
    "scrolled": true
   },
   "outputs": [
    {
     "data": {
      "text/html": [
       "<div>\n",
       "<style scoped>\n",
       "    .dataframe tbody tr th:only-of-type {\n",
       "        vertical-align: middle;\n",
       "    }\n",
       "\n",
       "    .dataframe tbody tr th {\n",
       "        vertical-align: top;\n",
       "    }\n",
       "\n",
       "    .dataframe thead th {\n",
       "        text-align: right;\n",
       "    }\n",
       "</style>\n",
       "<table border=\"1\" class=\"dataframe\">\n",
       "  <thead>\n",
       "    <tr style=\"text-align: right;\">\n",
       "      <th></th>\n",
       "      <th>userId</th>\n",
       "      <th>productId</th>\n",
       "      <th>ratings</th>\n",
       "      <th>timestamp</th>\n",
       "    </tr>\n",
       "  </thead>\n",
       "  <tbody>\n",
       "    <tr>\n",
       "      <th>2611263</th>\n",
       "      <td>A1L0947MLDVZ2F</td>\n",
       "      <td>B002HU65EQ</td>\n",
       "      <td>5.0</td>\n",
       "      <td>1342915200</td>\n",
       "    </tr>\n",
       "    <tr>\n",
       "      <th>104500</th>\n",
       "      <td>A3F7UAJVO7T083</td>\n",
       "      <td>B00005MAAR</td>\n",
       "      <td>5.0</td>\n",
       "      <td>998179200</td>\n",
       "    </tr>\n",
       "    <tr>\n",
       "      <th>5599526</th>\n",
       "      <td>AMRTSM65JXZLI</td>\n",
       "      <td>B0074BW614</td>\n",
       "      <td>3.0</td>\n",
       "      <td>1364256000</td>\n",
       "    </tr>\n",
       "    <tr>\n",
       "      <th>3586133</th>\n",
       "      <td>A38B7DTWWL4JE</td>\n",
       "      <td>B003UT6C9G</td>\n",
       "      <td>3.0</td>\n",
       "      <td>1296691200</td>\n",
       "    </tr>\n",
       "    <tr>\n",
       "      <th>3746360</th>\n",
       "      <td>A3Q5QGL7MV7040</td>\n",
       "      <td>B0040GJIX0</td>\n",
       "      <td>5.0</td>\n",
       "      <td>1356652800</td>\n",
       "    </tr>\n",
       "  </tbody>\n",
       "</table>\n",
       "</div>"
      ],
      "text/plain": [
       "                 userId   productId  ratings   timestamp\n",
       "2611263  A1L0947MLDVZ2F  B002HU65EQ      5.0  1342915200\n",
       "104500   A3F7UAJVO7T083  B00005MAAR      5.0   998179200\n",
       "5599526   AMRTSM65JXZLI  B0074BW614      3.0  1364256000\n",
       "3586133   A38B7DTWWL4JE  B003UT6C9G      3.0  1296691200\n",
       "3746360  A3Q5QGL7MV7040  B0040GJIX0      5.0  1356652800"
      ]
     },
     "execution_count": 7,
     "metadata": {},
     "output_type": "execute_result"
    }
   ],
   "source": [
    "data.sample(5)"
   ]
  },
  {
   "cell_type": "code",
   "execution_count": 8,
   "metadata": {},
   "outputs": [
    {
     "name": "stdout",
     "output_type": "stream",
     "text": [
      "<class 'pandas.core.frame.DataFrame'>\n",
      "RangeIndex: 7824482 entries, 0 to 7824481\n",
      "Data columns (total 4 columns):\n",
      "userId       object\n",
      "productId    object\n",
      "ratings      float64\n",
      "timestamp    int64\n",
      "dtypes: float64(1), int64(1), object(2)\n",
      "memory usage: 238.8+ MB\n"
     ]
    }
   ],
   "source": [
    "data.info()"
   ]
  },
  {
   "cell_type": "code",
   "execution_count": 9,
   "metadata": {},
   "outputs": [
    {
     "data": {
      "text/plain": [
       "userId       0\n",
       "productId    0\n",
       "ratings      0\n",
       "timestamp    0\n",
       "dtype: int64"
      ]
     },
     "execution_count": 9,
     "metadata": {},
     "output_type": "execute_result"
    }
   ],
   "source": [
    "data.isna().sum()"
   ]
  },
  {
   "cell_type": "code",
   "execution_count": 10,
   "metadata": {},
   "outputs": [
    {
     "data": {
      "text/plain": [
       "ratings      0\n",
       "timestamp    0\n",
       "dtype: int64"
      ]
     },
     "execution_count": 10,
     "metadata": {},
     "output_type": "execute_result"
    }
   ],
   "source": [
    "(data.drop(['userId', 'productId'], axis=1) < 0).sum()"
   ]
  },
  {
   "cell_type": "code",
   "execution_count": 11,
   "metadata": {},
   "outputs": [
    {
     "data": {
      "text/plain": [
       "0"
      ]
     },
     "execution_count": 11,
     "metadata": {},
     "output_type": "execute_result"
    }
   ],
   "source": [
    "data.duplicated().sum()"
   ]
  },
  {
   "cell_type": "code",
   "execution_count": 12,
   "metadata": {},
   "outputs": [],
   "source": [
    "data.drop('timestamp', axis=1, inplace=True)"
   ]
  },
  {
   "cell_type": "markdown",
   "metadata": {},
   "source": [
    "### Exploratory Data Analysis (EDA)"
   ]
  },
  {
   "cell_type": "code",
   "execution_count": 13,
   "metadata": {},
   "outputs": [
    {
     "data": {
      "text/html": [
       "<div>\n",
       "<style scoped>\n",
       "    .dataframe tbody tr th:only-of-type {\n",
       "        vertical-align: middle;\n",
       "    }\n",
       "\n",
       "    .dataframe tbody tr th {\n",
       "        vertical-align: top;\n",
       "    }\n",
       "\n",
       "    .dataframe thead th {\n",
       "        text-align: right;\n",
       "    }\n",
       "</style>\n",
       "<table border=\"1\" class=\"dataframe\">\n",
       "  <thead>\n",
       "    <tr style=\"text-align: right;\">\n",
       "      <th></th>\n",
       "      <th>count</th>\n",
       "      <th>mean</th>\n",
       "      <th>std</th>\n",
       "      <th>min</th>\n",
       "      <th>25%</th>\n",
       "      <th>50%</th>\n",
       "      <th>75%</th>\n",
       "      <th>max</th>\n",
       "    </tr>\n",
       "  </thead>\n",
       "  <tbody>\n",
       "    <tr>\n",
       "      <th>ratings</th>\n",
       "      <td>7824482.0</td>\n",
       "      <td>4.012337</td>\n",
       "      <td>1.38091</td>\n",
       "      <td>1.0</td>\n",
       "      <td>3.0</td>\n",
       "      <td>5.0</td>\n",
       "      <td>5.0</td>\n",
       "      <td>5.0</td>\n",
       "    </tr>\n",
       "  </tbody>\n",
       "</table>\n",
       "</div>"
      ],
      "text/plain": [
       "             count      mean      std  min  25%  50%  75%  max\n",
       "ratings  7824482.0  4.012337  1.38091  1.0  3.0  5.0  5.0  5.0"
      ]
     },
     "execution_count": 13,
     "metadata": {},
     "output_type": "execute_result"
    }
   ],
   "source": [
    "data.describe().T"
   ]
  },
  {
   "cell_type": "code",
   "execution_count": 14,
   "metadata": {},
   "outputs": [
    {
     "data": {
      "image/png": "[encoded data removed]",
      "text/plain": [
       "<Figure size 1080x648 with 4 Axes>"
      ]
     },
     "metadata": {
      "needs_background": "light"
     },
     "output_type": "display_data"
    }
   ],
   "source": [
    "#Histogram of dataset\n",
    "data.hist(bins=10, figsize=(15,9), layout=(2,2))\n",
    "plt.show()"
   ]
  },
  {
   "cell_type": "code",
   "execution_count": 15,
   "metadata": {},
   "outputs": [
    {
     "data": {
      "text/plain": [
       "4201696"
      ]
     },
     "execution_count": 15,
     "metadata": {},
     "output_type": "execute_result"
    }
   ],
   "source": [
    "#unique users in the dataset\n",
    "len(data['userId'].unique())"
   ]
  },
  {
   "cell_type": "code",
   "execution_count": 16,
   "metadata": {
    "scrolled": true
   },
   "outputs": [
    {
     "data": {
      "text/plain": [
       "476002"
      ]
     },
     "execution_count": 16,
     "metadata": {},
     "output_type": "execute_result"
    }
   ],
   "source": [
    "#unique products in the dataset\n",
    "len(data['productId'].unique())"
   ]
  },
  {
   "cell_type": "code",
   "execution_count": 17,
   "metadata": {},
   "outputs": [
    {
     "data": {
      "text/plain": [
       "5"
      ]
     },
     "execution_count": 17,
     "metadata": {},
     "output_type": "execute_result"
    }
   ],
   "source": [
    "#unique ratings in the dataset\n",
    "len(data['ratings'].unique())"
   ]
  },
  {
   "cell_type": "code",
   "execution_count": 18,
   "metadata": {},
   "outputs": [
    {
     "data": {
      "text/plain": [
       "5.0    4347541\n",
       "4.0    1485781\n",
       "1.0     901765\n",
       "3.0     633073\n",
       "2.0     456322\n",
       "Name: ratings, dtype: int64"
      ]
     },
     "execution_count": 18,
     "metadata": {},
     "output_type": "execute_result"
    }
   ],
   "source": [
    "#value counts of ratings\n",
    "data['ratings'].value_counts()"
   ]
  },
  {
   "cell_type": "code",
   "execution_count": 19,
   "metadata": {
    "scrolled": false
   },
   "outputs": [
    {
     "data": {
      "image/png": "[encoded data removed]",
      "text/plain": [
       "<Figure size 432x288 with 1 Axes>"
      ]
     },
     "metadata": {
      "needs_background": "light"
     },
     "output_type": "display_data"
    }
   ],
   "source": [
    "#countplot for ratings\n",
    "sns.countplot(x='ratings',data=data)\n",
    "plt.show()"
   ]
  },
  {
   "cell_type": "markdown",
   "metadata": {},
   "source": [
    "#### Observations from countplot:\n",
    "- maximum no of ratings is for 5.0 and minimum no of ratings is for 2.0"
   ]
  },
  {
   "cell_type": "code",
   "execution_count": 63,
   "metadata": {},
   "outputs": [
    {
     "data": {
      "text/html": [
       "<div>\n",
       "<style scoped>\n",
       "    .dataframe tbody tr th:only-of-type {\n",
       "        vertical-align: middle;\n",
       "    }\n",
       "\n",
       "    .dataframe tbody tr th {\n",
       "        vertical-align: top;\n",
       "    }\n",
       "\n",
       "    .dataframe thead th {\n",
       "        text-align: right;\n",
       "    }\n",
       "</style>\n",
       "<table border=\"1\" class=\"dataframe\">\n",
       "  <thead>\n",
       "    <tr style=\"text-align: right;\">\n",
       "      <th></th>\n",
       "      <th>ratings</th>\n",
       "      <th>no_of_ratings</th>\n",
       "    </tr>\n",
       "    <tr>\n",
       "      <th>userId</th>\n",
       "      <th></th>\n",
       "      <th></th>\n",
       "    </tr>\n",
       "  </thead>\n",
       "  <tbody>\n",
       "    <tr>\n",
       "      <th>A00000262KYZUE4J55XGL</th>\n",
       "      <td>5.0</td>\n",
       "      <td>1</td>\n",
       "    </tr>\n",
       "    <tr>\n",
       "      <th>A000063614T1OE0BUSKUT</th>\n",
       "      <td>5.0</td>\n",
       "      <td>2</td>\n",
       "    </tr>\n",
       "    <tr>\n",
       "      <th>A00009182QVLSWIGHLS1B</th>\n",
       "      <td>5.0</td>\n",
       "      <td>1</td>\n",
       "    </tr>\n",
       "    <tr>\n",
       "      <th>A00009661LC9LQPGKJ24G</th>\n",
       "      <td>5.0</td>\n",
       "      <td>1</td>\n",
       "    </tr>\n",
       "    <tr>\n",
       "      <th>A00010809P09NUU6ZP6H</th>\n",
       "      <td>5.0</td>\n",
       "      <td>1</td>\n",
       "    </tr>\n",
       "  </tbody>\n",
       "</table>\n",
       "</div>"
      ],
      "text/plain": [
       "                       ratings  no_of_ratings\n",
       "userId                                       \n",
       "A00000262KYZUE4J55XGL      5.0              1\n",
       "A000063614T1OE0BUSKUT      5.0              2\n",
       "A00009182QVLSWIGHLS1B      5.0              1\n",
       "A00009661LC9LQPGKJ24G      5.0              1\n",
       "A00010809P09NUU6ZP6H       5.0              1"
      ]
     },
     "execution_count": 63,
     "metadata": {},
     "output_type": "execute_result"
    }
   ],
   "source": [
    "#mean ratings given by users\n",
    "user_mean = pd.DataFrame(data.groupby(by='userId')['ratings'].mean())\n",
    "user_mean['no_of_ratings'] = data.groupby(by='userId')['ratings'].count()\n",
    "user_mean.head()"
   ]
  },
  {
   "cell_type": "code",
   "execution_count": 64,
   "metadata": {},
   "outputs": [
    {
     "data": {
      "image/png": "[encoded data removed]",
      "text/plain": [
       "<Figure size 432x288 with 1 Axes>"
      ]
     },
     "metadata": {
      "needs_background": "light"
     },
     "output_type": "display_data"
    }
   ],
   "source": [
    "#Histogram for mean ratings given by users\n",
    "user_mean['ratings'].hist(bins=10)\n",
    "plt.show()"
   ]
  },
  {
   "cell_type": "markdown",
   "metadata": {},
   "source": [
    "#### Observations from histogram :\n",
    "- Histogram of mean ratings shows that most of the ratings given by users are between 3.0 and 5.0"
   ]
  },
  {
   "cell_type": "code",
   "execution_count": 65,
   "metadata": {},
   "outputs": [
    {
     "data": {
      "text/html": [
       "<div>\n",
       "<style scoped>\n",
       "    .dataframe tbody tr th:only-of-type {\n",
       "        vertical-align: middle;\n",
       "    }\n",
       "\n",
       "    .dataframe tbody tr th {\n",
       "        vertical-align: top;\n",
       "    }\n",
       "\n",
       "    .dataframe thead th {\n",
       "        text-align: right;\n",
       "    }\n",
       "</style>\n",
       "<table border=\"1\" class=\"dataframe\">\n",
       "  <thead>\n",
       "    <tr style=\"text-align: right;\">\n",
       "      <th></th>\n",
       "      <th>ratings</th>\n",
       "      <th>no_of_ratings</th>\n",
       "    </tr>\n",
       "    <tr>\n",
       "      <th>productId</th>\n",
       "      <th></th>\n",
       "      <th></th>\n",
       "    </tr>\n",
       "  </thead>\n",
       "  <tbody>\n",
       "    <tr>\n",
       "      <th>0132793040</th>\n",
       "      <td>5.000000</td>\n",
       "      <td>1</td>\n",
       "    </tr>\n",
       "    <tr>\n",
       "      <th>0321732944</th>\n",
       "      <td>5.000000</td>\n",
       "      <td>1</td>\n",
       "    </tr>\n",
       "    <tr>\n",
       "      <th>0439886341</th>\n",
       "      <td>1.666667</td>\n",
       "      <td>3</td>\n",
       "    </tr>\n",
       "    <tr>\n",
       "      <th>0511189877</th>\n",
       "      <td>4.500000</td>\n",
       "      <td>6</td>\n",
       "    </tr>\n",
       "    <tr>\n",
       "      <th>0528881469</th>\n",
       "      <td>2.851852</td>\n",
       "      <td>27</td>\n",
       "    </tr>\n",
       "  </tbody>\n",
       "</table>\n",
       "</div>"
      ],
      "text/plain": [
       "             ratings  no_of_ratings\n",
       "productId                          \n",
       "0132793040  5.000000              1\n",
       "0321732944  5.000000              1\n",
       "0439886341  1.666667              3\n",
       "0511189877  4.500000              6\n",
       "0528881469  2.851852             27"
      ]
     },
     "execution_count": 65,
     "metadata": {},
     "output_type": "execute_result"
    }
   ],
   "source": [
    "#mean ratings given to products\n",
    "product_mean = pd.DataFrame(data.groupby(by='productId')['ratings'].mean())\n",
    "product_mean['no_of_ratings'] = data.groupby(by='productId')['ratings'].count()\n",
    "product_mean.head()"
   ]
  },
  {
   "cell_type": "code",
   "execution_count": 66,
   "metadata": {
    "scrolled": true
   },
   "outputs": [
    {
     "data": {
      "image/png": "[encoded data removed]",
      "text/plain": [
       "<Figure size 432x288 with 1 Axes>"
      ]
     },
     "metadata": {
      "needs_background": "light"
     },
     "output_type": "display_data"
    }
   ],
   "source": [
    "#Histogram for mean ratings given to products\n",
    "product_mean['ratings'].hist(bins=10)\n",
    "plt.show()"
   ]
  },
  {
   "cell_type": "markdown",
   "metadata": {},
   "source": [
    "#### Observations from histogram :\n",
    "- Histogram of mean ratings shows that most of the ratings given to products are between 3.0 and 5.0"
   ]
  },
  {
   "cell_type": "code",
   "execution_count": 24,
   "metadata": {},
   "outputs": [
    {
     "name": "stdout",
     "output_type": "stream",
     "text": [
      "Number of users who have given 50 or more ratings :\n"
     ]
    },
    {
     "data": {
      "text/plain": [
       "1540"
      ]
     },
     "execution_count": 24,
     "metadata": {},
     "output_type": "execute_result"
    }
   ],
   "source": [
    "#Count of users who has given 50 or more number of ratings\n",
    "print(\"Number of users who have given 50 or more ratings :\")\n",
    "(data.groupby(by='userId')['ratings'].count() >= 50).sum()"
   ]
  },
  {
   "cell_type": "code",
   "execution_count": 25,
   "metadata": {},
   "outputs": [],
   "source": [
    "user_ratings_count = pd.DataFrame(data.groupby(by='userId', as_index=False)['ratings'].count())"
   ]
  },
  {
   "cell_type": "code",
   "execution_count": 26,
   "metadata": {},
   "outputs": [
    {
     "data": {
      "text/plain": [
       "(4201696, 2)"
      ]
     },
     "execution_count": 26,
     "metadata": {},
     "output_type": "execute_result"
    }
   ],
   "source": [
    "user_ratings_count.shape"
   ]
  },
  {
   "cell_type": "code",
   "execution_count": 27,
   "metadata": {},
   "outputs": [
    {
     "data": {
      "text/html": [
       "<div>\n",
       "<style scoped>\n",
       "    .dataframe tbody tr th:only-of-type {\n",
       "        vertical-align: middle;\n",
       "    }\n",
       "\n",
       "    .dataframe tbody tr th {\n",
       "        vertical-align: top;\n",
       "    }\n",
       "\n",
       "    .dataframe thead th {\n",
       "        text-align: right;\n",
       "    }\n",
       "</style>\n",
       "<table border=\"1\" class=\"dataframe\">\n",
       "  <thead>\n",
       "    <tr style=\"text-align: right;\">\n",
       "      <th></th>\n",
       "      <th>userId</th>\n",
       "      <th>ratings</th>\n",
       "    </tr>\n",
       "  </thead>\n",
       "  <tbody>\n",
       "    <tr>\n",
       "      <th>3263531</th>\n",
       "      <td>A5JLAU2ARJ0BO</td>\n",
       "      <td>520</td>\n",
       "    </tr>\n",
       "    <tr>\n",
       "      <th>3512451</th>\n",
       "      <td>ADLVFFE4VBT8</td>\n",
       "      <td>501</td>\n",
       "    </tr>\n",
       "    <tr>\n",
       "      <th>2989526</th>\n",
       "      <td>A3OXHLG6DIBRW8</td>\n",
       "      <td>498</td>\n",
       "    </tr>\n",
       "    <tr>\n",
       "      <th>3291008</th>\n",
       "      <td>A6FIAB28IS79</td>\n",
       "      <td>431</td>\n",
       "    </tr>\n",
       "    <tr>\n",
       "      <th>3284634</th>\n",
       "      <td>A680RUE1FDO8B</td>\n",
       "      <td>406</td>\n",
       "    </tr>\n",
       "  </tbody>\n",
       "</table>\n",
       "</div>"
      ],
      "text/plain": [
       "                 userId  ratings\n",
       "3263531   A5JLAU2ARJ0BO      520\n",
       "3512451    ADLVFFE4VBT8      501\n",
       "2989526  A3OXHLG6DIBRW8      498\n",
       "3291008    A6FIAB28IS79      431\n",
       "3284634   A680RUE1FDO8B      406"
      ]
     },
     "execution_count": 27,
     "metadata": {},
     "output_type": "execute_result"
    }
   ],
   "source": [
    "#Top 5 users who have given the maximum ratings for the products\n",
    "user_ratings_count.sort_values(by='ratings', ascending=False).head(5)"
   ]
  },
  {
   "cell_type": "code",
   "execution_count": 28,
   "metadata": {},
   "outputs": [],
   "source": [
    "#Create a subset of the dataset to make it less sparse/more dense.\n",
    "#Keep only the users who have given 50 or more ratings to the products and ignore the rest\n",
    "#Create a DataFrame with users who have given 50 or more ratings\n",
    "\n",
    "df = data[data['userId'].isin(user_ratings_count.loc[(user_ratings_count['ratings']>=50), 'userId'])]"
   ]
  },
  {
   "cell_type": "code",
   "execution_count": 29,
   "metadata": {},
   "outputs": [],
   "source": [
    "#Reset the index of the new DataFrame\n",
    "df.reset_index(drop=True, inplace=True)"
   ]
  },
  {
   "cell_type": "code",
   "execution_count": 30,
   "metadata": {},
   "outputs": [
    {
     "data": {
      "text/plain": [
       "(125871, 3)"
      ]
     },
     "execution_count": 30,
     "metadata": {},
     "output_type": "execute_result"
    }
   ],
   "source": [
    "df.shape"
   ]
  },
  {
   "cell_type": "code",
   "execution_count": 31,
   "metadata": {},
   "outputs": [
    {
     "data": {
      "text/html": [
       "<div>\n",
       "<style scoped>\n",
       "    .dataframe tbody tr th:only-of-type {\n",
       "        vertical-align: middle;\n",
       "    }\n",
       "\n",
       "    .dataframe tbody tr th {\n",
       "        vertical-align: top;\n",
       "    }\n",
       "\n",
       "    .dataframe thead th {\n",
       "        text-align: right;\n",
       "    }\n",
       "</style>\n",
       "<table border=\"1\" class=\"dataframe\">\n",
       "  <thead>\n",
       "    <tr style=\"text-align: right;\">\n",
       "      <th></th>\n",
       "      <th>userId</th>\n",
       "      <th>productId</th>\n",
       "      <th>ratings</th>\n",
       "    </tr>\n",
       "  </thead>\n",
       "  <tbody>\n",
       "    <tr>\n",
       "      <th>0</th>\n",
       "      <td>A3BY5KCNQZXV5U</td>\n",
       "      <td>0594451647</td>\n",
       "      <td>5.0</td>\n",
       "    </tr>\n",
       "    <tr>\n",
       "      <th>1</th>\n",
       "      <td>AT09WGFUM934H</td>\n",
       "      <td>0594481813</td>\n",
       "      <td>3.0</td>\n",
       "    </tr>\n",
       "    <tr>\n",
       "      <th>2</th>\n",
       "      <td>A32HSNCNPRUMTR</td>\n",
       "      <td>0970407998</td>\n",
       "      <td>1.0</td>\n",
       "    </tr>\n",
       "    <tr>\n",
       "      <th>3</th>\n",
       "      <td>A17HMM1M7T9PJ1</td>\n",
       "      <td>0970407998</td>\n",
       "      <td>4.0</td>\n",
       "    </tr>\n",
       "    <tr>\n",
       "      <th>4</th>\n",
       "      <td>A3CLWR1UUZT6TG</td>\n",
       "      <td>0972683275</td>\n",
       "      <td>5.0</td>\n",
       "    </tr>\n",
       "  </tbody>\n",
       "</table>\n",
       "</div>"
      ],
      "text/plain": [
       "           userId   productId  ratings\n",
       "0  A3BY5KCNQZXV5U  0594451647      5.0\n",
       "1   AT09WGFUM934H  0594481813      3.0\n",
       "2  A32HSNCNPRUMTR  0970407998      1.0\n",
       "3  A17HMM1M7T9PJ1  0970407998      4.0\n",
       "4  A3CLWR1UUZT6TG  0972683275      5.0"
      ]
     },
     "execution_count": 31,
     "metadata": {},
     "output_type": "execute_result"
    }
   ],
   "source": [
    "df.head()"
   ]
  },
  {
   "cell_type": "code",
   "execution_count": 32,
   "metadata": {},
   "outputs": [
    {
     "data": {
      "text/html": [
       "<div>\n",
       "<style scoped>\n",
       "    .dataframe tbody tr th:only-of-type {\n",
       "        vertical-align: middle;\n",
       "    }\n",
       "\n",
       "    .dataframe tbody tr th {\n",
       "        vertical-align: top;\n",
       "    }\n",
       "\n",
       "    .dataframe thead th {\n",
       "        text-align: right;\n",
       "    }\n",
       "</style>\n",
       "<table border=\"1\" class=\"dataframe\">\n",
       "  <thead>\n",
       "    <tr style=\"text-align: right;\">\n",
       "      <th></th>\n",
       "      <th>userId</th>\n",
       "      <th>productId</th>\n",
       "      <th>ratings</th>\n",
       "    </tr>\n",
       "  </thead>\n",
       "  <tbody>\n",
       "    <tr>\n",
       "      <th>125866</th>\n",
       "      <td>A1E1LEVQ9VQNK</td>\n",
       "      <td>B00LGQ6HL8</td>\n",
       "      <td>5.0</td>\n",
       "    </tr>\n",
       "    <tr>\n",
       "      <th>125867</th>\n",
       "      <td>A2NYK9KWFMJV4Y</td>\n",
       "      <td>B00LGQ6HL8</td>\n",
       "      <td>5.0</td>\n",
       "    </tr>\n",
       "    <tr>\n",
       "      <th>125868</th>\n",
       "      <td>A3AYSYSLHU26U9</td>\n",
       "      <td>B00LI4ZZO8</td>\n",
       "      <td>4.0</td>\n",
       "    </tr>\n",
       "    <tr>\n",
       "      <th>125869</th>\n",
       "      <td>A2NYK9KWFMJV4Y</td>\n",
       "      <td>B00LI4ZZO8</td>\n",
       "      <td>5.0</td>\n",
       "    </tr>\n",
       "    <tr>\n",
       "      <th>125870</th>\n",
       "      <td>A2BYV7S1QP2YIG</td>\n",
       "      <td>B00LKG1MC8</td>\n",
       "      <td>5.0</td>\n",
       "    </tr>\n",
       "  </tbody>\n",
       "</table>\n",
       "</div>"
      ],
      "text/plain": [
       "                userId   productId  ratings\n",
       "125866   A1E1LEVQ9VQNK  B00LGQ6HL8      5.0\n",
       "125867  A2NYK9KWFMJV4Y  B00LGQ6HL8      5.0\n",
       "125868  A3AYSYSLHU26U9  B00LI4ZZO8      4.0\n",
       "125869  A2NYK9KWFMJV4Y  B00LI4ZZO8      5.0\n",
       "125870  A2BYV7S1QP2YIG  B00LKG1MC8      5.0"
      ]
     },
     "execution_count": 32,
     "metadata": {},
     "output_type": "execute_result"
    }
   ],
   "source": [
    "df.tail()"
   ]
  },
  {
   "cell_type": "markdown",
   "metadata": {},
   "source": [
    "## Popularity based Recommender System"
   ]
  },
  {
   "cell_type": "code",
   "execution_count": 33,
   "metadata": {},
   "outputs": [],
   "source": [
    "#Class for Popularity based Recommender System model\n",
    "\n",
    "class popularity_recommender_py():\n",
    "    def __init__(self):\n",
    "        self.train_data = None\n",
    "        self.userId = None\n",
    "        self.productId = None\n",
    "        self.n_recommendations = None\n",
    "        self.popularity_recommendations = None\n",
    "        \n",
    "    #Create the popularity based recommender system model\n",
    "    \n",
    "    def create(self, train_data, userId, productId, n_recommendations):\n",
    "        self.train_data = train_data\n",
    "        self.userId = userId\n",
    "        self.productId = productId\n",
    "        self.n_recommendations = n_recommendations\n",
    "\n",
    "        #Get a count of userIds for each unique product as recommendation score\n",
    "        train_data_grouped = train_data.groupby([self.productId]).agg({self.userId: 'count'}).reset_index()\n",
    "        train_data_grouped.rename(columns = {'userId': 'score'},inplace=True)\n",
    "    \n",
    "        #Sort the products based upon recommendation score\n",
    "        train_data_sort = train_data_grouped.sort_values(['score', self.productId], ascending = [0,1])\n",
    "    \n",
    "        #Generate a recommendation rank based upon score\n",
    "        train_data_sort['Rank'] = train_data_sort['score'].rank(ascending=0, method='first')\n",
    "        \n",
    "        #Get the top 10 recommendations\n",
    "        self.popularity_recommendations = train_data_sort.head(n_recommendations)\n",
    "\n",
    "    #Use the popularity based recommender system model to make recommendations\n",
    "    \n",
    "    def recommend(self, userId):    \n",
    "        user_recommendations = self.popularity_recommendations        \n",
    "        #print(user_recommendations)\n",
    "        \n",
    "        #Add userId column for which the recommendations are being generated\n",
    "        user_recommendations['userId'] = userId\n",
    "        #print(user_recommendations['userId'])\n",
    "        \n",
    "        #Bring userId column to the front\n",
    "        cols = user_recommendations.columns.tolist()\n",
    "        cols = cols[-1:] + cols[:-1]\n",
    "        #print(user_recommendations[cols])\n",
    "        \n",
    "        user_recommendations = user_recommendations[cols]\n",
    "        return user_recommendations\n",
    "    "
   ]
  },
  {
   "cell_type": "code",
   "execution_count": 34,
   "metadata": {},
   "outputs": [],
   "source": [
    "#Top k Recommendations to be given where k=5\n",
    "k=10\n",
    "\n",
    "#Create instance of Popularity based Recommender system \n",
    "popularity_model = popularity_recommender_py()"
   ]
  },
  {
   "cell_type": "code",
   "execution_count": 35,
   "metadata": {},
   "outputs": [],
   "source": [
    "popularity_model.create(df, 'userId', 'productId', k)"
   ]
  },
  {
   "cell_type": "code",
   "execution_count": 36,
   "metadata": {},
   "outputs": [
    {
     "data": {
      "text/html": [
       "<div>\n",
       "<style scoped>\n",
       "    .dataframe tbody tr th:only-of-type {\n",
       "        vertical-align: middle;\n",
       "    }\n",
       "\n",
       "    .dataframe tbody tr th {\n",
       "        vertical-align: top;\n",
       "    }\n",
       "\n",
       "    .dataframe thead th {\n",
       "        text-align: right;\n",
       "    }\n",
       "</style>\n",
       "<table border=\"1\" class=\"dataframe\">\n",
       "  <thead>\n",
       "    <tr style=\"text-align: right;\">\n",
       "      <th></th>\n",
       "      <th>userId</th>\n",
       "      <th>productId</th>\n",
       "      <th>score</th>\n",
       "      <th>Rank</th>\n",
       "    </tr>\n",
       "  </thead>\n",
       "  <tbody>\n",
       "    <tr>\n",
       "      <th>39003</th>\n",
       "      <td>A87N6UTYA6NOB</td>\n",
       "      <td>B0088CJT4U</td>\n",
       "      <td>206</td>\n",
       "      <td>1.0</td>\n",
       "    </tr>\n",
       "    <tr>\n",
       "      <th>24827</th>\n",
       "      <td>A87N6UTYA6NOB</td>\n",
       "      <td>B003ES5ZUU</td>\n",
       "      <td>184</td>\n",
       "      <td>2.0</td>\n",
       "    </tr>\n",
       "    <tr>\n",
       "      <th>11078</th>\n",
       "      <td>A87N6UTYA6NOB</td>\n",
       "      <td>B000N99BBC</td>\n",
       "      <td>167</td>\n",
       "      <td>3.0</td>\n",
       "    </tr>\n",
       "    <tr>\n",
       "      <th>38250</th>\n",
       "      <td>A87N6UTYA6NOB</td>\n",
       "      <td>B007WTAJTO</td>\n",
       "      <td>164</td>\n",
       "      <td>4.0</td>\n",
       "    </tr>\n",
       "    <tr>\n",
       "      <th>38615</th>\n",
       "      <td>A87N6UTYA6NOB</td>\n",
       "      <td>B00829TIEK</td>\n",
       "      <td>149</td>\n",
       "      <td>5.0</td>\n",
       "    </tr>\n",
       "    <tr>\n",
       "      <th>38611</th>\n",
       "      <td>A87N6UTYA6NOB</td>\n",
       "      <td>B00829THK0</td>\n",
       "      <td>137</td>\n",
       "      <td>6.0</td>\n",
       "    </tr>\n",
       "    <tr>\n",
       "      <th>39338</th>\n",
       "      <td>A87N6UTYA6NOB</td>\n",
       "      <td>B008DWCRQW</td>\n",
       "      <td>137</td>\n",
       "      <td>7.0</td>\n",
       "    </tr>\n",
       "    <tr>\n",
       "      <th>21982</th>\n",
       "      <td>A87N6UTYA6NOB</td>\n",
       "      <td>B002R5AM7C</td>\n",
       "      <td>128</td>\n",
       "      <td>8.0</td>\n",
       "    </tr>\n",
       "    <tr>\n",
       "      <th>28761</th>\n",
       "      <td>A87N6UTYA6NOB</td>\n",
       "      <td>B004CLYEDC</td>\n",
       "      <td>118</td>\n",
       "      <td>9.0</td>\n",
       "    </tr>\n",
       "    <tr>\n",
       "      <th>22210</th>\n",
       "      <td>A87N6UTYA6NOB</td>\n",
       "      <td>B002SZEOLG</td>\n",
       "      <td>113</td>\n",
       "      <td>10.0</td>\n",
       "    </tr>\n",
       "  </tbody>\n",
       "</table>\n",
       "</div>"
      ],
      "text/plain": [
       "              userId   productId  score  Rank\n",
       "39003  A87N6UTYA6NOB  B0088CJT4U    206   1.0\n",
       "24827  A87N6UTYA6NOB  B003ES5ZUU    184   2.0\n",
       "11078  A87N6UTYA6NOB  B000N99BBC    167   3.0\n",
       "38250  A87N6UTYA6NOB  B007WTAJTO    164   4.0\n",
       "38615  A87N6UTYA6NOB  B00829TIEK    149   5.0\n",
       "38611  A87N6UTYA6NOB  B00829THK0    137   6.0\n",
       "39338  A87N6UTYA6NOB  B008DWCRQW    137   7.0\n",
       "21982  A87N6UTYA6NOB  B002R5AM7C    128   8.0\n",
       "28761  A87N6UTYA6NOB  B004CLYEDC    118   9.0\n",
       "22210  A87N6UTYA6NOB  B002SZEOLG    113  10.0"
      ]
     },
     "execution_count": 36,
     "metadata": {},
     "output_type": "execute_result"
    }
   ],
   "source": [
    "user_id = df.loc[128,'userId']\n",
    "popularity_model.recommend(user_id)"
   ]
  },
  {
   "cell_type": "code",
   "execution_count": 37,
   "metadata": {},
   "outputs": [
    {
     "data": {
      "text/html": [
       "<div>\n",
       "<style scoped>\n",
       "    .dataframe tbody tr th:only-of-type {\n",
       "        vertical-align: middle;\n",
       "    }\n",
       "\n",
       "    .dataframe tbody tr th {\n",
       "        vertical-align: top;\n",
       "    }\n",
       "\n",
       "    .dataframe thead th {\n",
       "        text-align: right;\n",
       "    }\n",
       "</style>\n",
       "<table border=\"1\" class=\"dataframe\">\n",
       "  <thead>\n",
       "    <tr style=\"text-align: right;\">\n",
       "      <th></th>\n",
       "      <th>userId</th>\n",
       "      <th>productId</th>\n",
       "      <th>score</th>\n",
       "      <th>Rank</th>\n",
       "    </tr>\n",
       "  </thead>\n",
       "  <tbody>\n",
       "    <tr>\n",
       "      <th>39003</th>\n",
       "      <td>A2QI2NTDTMK2FV</td>\n",
       "      <td>B0088CJT4U</td>\n",
       "      <td>206</td>\n",
       "      <td>1.0</td>\n",
       "    </tr>\n",
       "    <tr>\n",
       "      <th>24827</th>\n",
       "      <td>A2QI2NTDTMK2FV</td>\n",
       "      <td>B003ES5ZUU</td>\n",
       "      <td>184</td>\n",
       "      <td>2.0</td>\n",
       "    </tr>\n",
       "    <tr>\n",
       "      <th>11078</th>\n",
       "      <td>A2QI2NTDTMK2FV</td>\n",
       "      <td>B000N99BBC</td>\n",
       "      <td>167</td>\n",
       "      <td>3.0</td>\n",
       "    </tr>\n",
       "    <tr>\n",
       "      <th>38250</th>\n",
       "      <td>A2QI2NTDTMK2FV</td>\n",
       "      <td>B007WTAJTO</td>\n",
       "      <td>164</td>\n",
       "      <td>4.0</td>\n",
       "    </tr>\n",
       "    <tr>\n",
       "      <th>38615</th>\n",
       "      <td>A2QI2NTDTMK2FV</td>\n",
       "      <td>B00829TIEK</td>\n",
       "      <td>149</td>\n",
       "      <td>5.0</td>\n",
       "    </tr>\n",
       "    <tr>\n",
       "      <th>38611</th>\n",
       "      <td>A2QI2NTDTMK2FV</td>\n",
       "      <td>B00829THK0</td>\n",
       "      <td>137</td>\n",
       "      <td>6.0</td>\n",
       "    </tr>\n",
       "    <tr>\n",
       "      <th>39338</th>\n",
       "      <td>A2QI2NTDTMK2FV</td>\n",
       "      <td>B008DWCRQW</td>\n",
       "      <td>137</td>\n",
       "      <td>7.0</td>\n",
       "    </tr>\n",
       "    <tr>\n",
       "      <th>21982</th>\n",
       "      <td>A2QI2NTDTMK2FV</td>\n",
       "      <td>B002R5AM7C</td>\n",
       "      <td>128</td>\n",
       "      <td>8.0</td>\n",
       "    </tr>\n",
       "    <tr>\n",
       "      <th>28761</th>\n",
       "      <td>A2QI2NTDTMK2FV</td>\n",
       "      <td>B004CLYEDC</td>\n",
       "      <td>118</td>\n",
       "      <td>9.0</td>\n",
       "    </tr>\n",
       "    <tr>\n",
       "      <th>22210</th>\n",
       "      <td>A2QI2NTDTMK2FV</td>\n",
       "      <td>B002SZEOLG</td>\n",
       "      <td>113</td>\n",
       "      <td>10.0</td>\n",
       "    </tr>\n",
       "  </tbody>\n",
       "</table>\n",
       "</div>"
      ],
      "text/plain": [
       "               userId   productId  score  Rank\n",
       "39003  A2QI2NTDTMK2FV  B0088CJT4U    206   1.0\n",
       "24827  A2QI2NTDTMK2FV  B003ES5ZUU    184   2.0\n",
       "11078  A2QI2NTDTMK2FV  B000N99BBC    167   3.0\n",
       "38250  A2QI2NTDTMK2FV  B007WTAJTO    164   4.0\n",
       "38615  A2QI2NTDTMK2FV  B00829TIEK    149   5.0\n",
       "38611  A2QI2NTDTMK2FV  B00829THK0    137   6.0\n",
       "39338  A2QI2NTDTMK2FV  B008DWCRQW    137   7.0\n",
       "21982  A2QI2NTDTMK2FV  B002R5AM7C    128   8.0\n",
       "28761  A2QI2NTDTMK2FV  B004CLYEDC    118   9.0\n",
       "22210  A2QI2NTDTMK2FV  B002SZEOLG    113  10.0"
      ]
     },
     "execution_count": 37,
     "metadata": {},
     "output_type": "execute_result"
    }
   ],
   "source": [
    "user_id = df.loc[299,'userId']\n",
    "popularity_model.recommend(user_id)"
   ]
  },
  {
   "cell_type": "code",
   "execution_count": 38,
   "metadata": {},
   "outputs": [
    {
     "data": {
      "text/html": [
       "<div>\n",
       "<style scoped>\n",
       "    .dataframe tbody tr th:only-of-type {\n",
       "        vertical-align: middle;\n",
       "    }\n",
       "\n",
       "    .dataframe tbody tr th {\n",
       "        vertical-align: top;\n",
       "    }\n",
       "\n",
       "    .dataframe thead th {\n",
       "        text-align: right;\n",
       "    }\n",
       "</style>\n",
       "<table border=\"1\" class=\"dataframe\">\n",
       "  <thead>\n",
       "    <tr style=\"text-align: right;\">\n",
       "      <th></th>\n",
       "      <th>userId</th>\n",
       "      <th>productId</th>\n",
       "      <th>score</th>\n",
       "      <th>Rank</th>\n",
       "    </tr>\n",
       "  </thead>\n",
       "  <tbody>\n",
       "    <tr>\n",
       "      <th>39003</th>\n",
       "      <td>AZBXKUH4AIW3X</td>\n",
       "      <td>B0088CJT4U</td>\n",
       "      <td>206</td>\n",
       "      <td>1.0</td>\n",
       "    </tr>\n",
       "    <tr>\n",
       "      <th>24827</th>\n",
       "      <td>AZBXKUH4AIW3X</td>\n",
       "      <td>B003ES5ZUU</td>\n",
       "      <td>184</td>\n",
       "      <td>2.0</td>\n",
       "    </tr>\n",
       "    <tr>\n",
       "      <th>11078</th>\n",
       "      <td>AZBXKUH4AIW3X</td>\n",
       "      <td>B000N99BBC</td>\n",
       "      <td>167</td>\n",
       "      <td>3.0</td>\n",
       "    </tr>\n",
       "    <tr>\n",
       "      <th>38250</th>\n",
       "      <td>AZBXKUH4AIW3X</td>\n",
       "      <td>B007WTAJTO</td>\n",
       "      <td>164</td>\n",
       "      <td>4.0</td>\n",
       "    </tr>\n",
       "    <tr>\n",
       "      <th>38615</th>\n",
       "      <td>AZBXKUH4AIW3X</td>\n",
       "      <td>B00829TIEK</td>\n",
       "      <td>149</td>\n",
       "      <td>5.0</td>\n",
       "    </tr>\n",
       "    <tr>\n",
       "      <th>38611</th>\n",
       "      <td>AZBXKUH4AIW3X</td>\n",
       "      <td>B00829THK0</td>\n",
       "      <td>137</td>\n",
       "      <td>6.0</td>\n",
       "    </tr>\n",
       "    <tr>\n",
       "      <th>39338</th>\n",
       "      <td>AZBXKUH4AIW3X</td>\n",
       "      <td>B008DWCRQW</td>\n",
       "      <td>137</td>\n",
       "      <td>7.0</td>\n",
       "    </tr>\n",
       "    <tr>\n",
       "      <th>21982</th>\n",
       "      <td>AZBXKUH4AIW3X</td>\n",
       "      <td>B002R5AM7C</td>\n",
       "      <td>128</td>\n",
       "      <td>8.0</td>\n",
       "    </tr>\n",
       "    <tr>\n",
       "      <th>28761</th>\n",
       "      <td>AZBXKUH4AIW3X</td>\n",
       "      <td>B004CLYEDC</td>\n",
       "      <td>118</td>\n",
       "      <td>9.0</td>\n",
       "    </tr>\n",
       "    <tr>\n",
       "      <th>22210</th>\n",
       "      <td>AZBXKUH4AIW3X</td>\n",
       "      <td>B002SZEOLG</td>\n",
       "      <td>113</td>\n",
       "      <td>10.0</td>\n",
       "    </tr>\n",
       "  </tbody>\n",
       "</table>\n",
       "</div>"
      ],
      "text/plain": [
       "              userId   productId  score  Rank\n",
       "39003  AZBXKUH4AIW3X  B0088CJT4U    206   1.0\n",
       "24827  AZBXKUH4AIW3X  B003ES5ZUU    184   2.0\n",
       "11078  AZBXKUH4AIW3X  B000N99BBC    167   3.0\n",
       "38250  AZBXKUH4AIW3X  B007WTAJTO    164   4.0\n",
       "38615  AZBXKUH4AIW3X  B00829TIEK    149   5.0\n",
       "38611  AZBXKUH4AIW3X  B00829THK0    137   6.0\n",
       "39338  AZBXKUH4AIW3X  B008DWCRQW    137   7.0\n",
       "21982  AZBXKUH4AIW3X  B002R5AM7C    128   8.0\n",
       "28761  AZBXKUH4AIW3X  B004CLYEDC    118   9.0\n",
       "22210  AZBXKUH4AIW3X  B002SZEOLG    113  10.0"
      ]
     },
     "execution_count": 38,
     "metadata": {},
     "output_type": "execute_result"
    }
   ],
   "source": [
    "user_id = df.loc[6979,'userId']\n",
    "popularity_model.recommend(user_id)"
   ]
  },
  {
   "cell_type": "markdown",
   "metadata": {},
   "source": [
    "#### Observations on Popularity Based Recommender System model:\n",
    "-  The Popularity recommender modelv recommended the best products based on poularity of the product."
   ]
  },
  {
   "cell_type": "markdown",
   "metadata": {},
   "source": [
    "## Collaborative Filtering Based Recommendation System"
   ]
  },
  {
   "cell_type": "code",
   "execution_count": 39,
   "metadata": {},
   "outputs": [
    {
     "data": {
      "text/plain": [
       "(12587, 3)"
      ]
     },
     "execution_count": 39,
     "metadata": {},
     "output_type": "execute_result"
    }
   ],
   "source": [
    "#Take only 10% of the reduced datset data_df as we will encounter a memory error if we take the complete dataset\n",
    "\n",
    "x = round((df.shape[0])*10/100)\n",
    "df_new = df.iloc[0:x,:]\n",
    "df_new.shape"
   ]
  },
  {
   "cell_type": "code",
   "execution_count": 40,
   "metadata": {},
   "outputs": [
    {
     "data": {
      "text/html": [
       "<div>\n",
       "<style scoped>\n",
       "    .dataframe tbody tr th:only-of-type {\n",
       "        vertical-align: middle;\n",
       "    }\n",
       "\n",
       "    .dataframe tbody tr th {\n",
       "        vertical-align: top;\n",
       "    }\n",
       "\n",
       "    .dataframe thead th {\n",
       "        text-align: right;\n",
       "    }\n",
       "</style>\n",
       "<table border=\"1\" class=\"dataframe\">\n",
       "  <thead>\n",
       "    <tr style=\"text-align: right;\">\n",
       "      <th></th>\n",
       "      <th>userId</th>\n",
       "      <th>productId</th>\n",
       "      <th>ratings</th>\n",
       "    </tr>\n",
       "  </thead>\n",
       "  <tbody>\n",
       "    <tr>\n",
       "      <th>0</th>\n",
       "      <td>A3BY5KCNQZXV5U</td>\n",
       "      <td>0594451647</td>\n",
       "      <td>5.0</td>\n",
       "    </tr>\n",
       "    <tr>\n",
       "      <th>1</th>\n",
       "      <td>AT09WGFUM934H</td>\n",
       "      <td>0594481813</td>\n",
       "      <td>3.0</td>\n",
       "    </tr>\n",
       "    <tr>\n",
       "      <th>2</th>\n",
       "      <td>A32HSNCNPRUMTR</td>\n",
       "      <td>0970407998</td>\n",
       "      <td>1.0</td>\n",
       "    </tr>\n",
       "    <tr>\n",
       "      <th>3</th>\n",
       "      <td>A17HMM1M7T9PJ1</td>\n",
       "      <td>0970407998</td>\n",
       "      <td>4.0</td>\n",
       "    </tr>\n",
       "    <tr>\n",
       "      <th>4</th>\n",
       "      <td>A3CLWR1UUZT6TG</td>\n",
       "      <td>0972683275</td>\n",
       "      <td>5.0</td>\n",
       "    </tr>\n",
       "  </tbody>\n",
       "</table>\n",
       "</div>"
      ],
      "text/plain": [
       "           userId   productId  ratings\n",
       "0  A3BY5KCNQZXV5U  0594451647      5.0\n",
       "1   AT09WGFUM934H  0594481813      3.0\n",
       "2  A32HSNCNPRUMTR  0970407998      1.0\n",
       "3  A17HMM1M7T9PJ1  0970407998      4.0\n",
       "4  A3CLWR1UUZT6TG  0972683275      5.0"
      ]
     },
     "execution_count": 40,
     "metadata": {},
     "output_type": "execute_result"
    }
   ],
   "source": [
    "df_new.head()"
   ]
  },
  {
   "cell_type": "code",
   "execution_count": 41,
   "metadata": {},
   "outputs": [],
   "source": [
    "#Import the require classes from surprise library\n",
    "\n",
    "from surprise import Dataset\n",
    "from surprise import Reader\n",
    "from surprise import KNNWithMeans\n",
    "from surprise import accuracy\n",
    "from surprise.model_selection import train_test_split"
   ]
  },
  {
   "cell_type": "code",
   "execution_count": 42,
   "metadata": {},
   "outputs": [],
   "source": [
    "#Load the dataset\n",
    "\n",
    "reader = Reader(rating_scale=(1, 5))\n",
    "df2 = Dataset.load_from_df(df_new, reader)"
   ]
  },
  {
   "cell_type": "code",
   "execution_count": 43,
   "metadata": {},
   "outputs": [
    {
     "data": {
      "text/plain": [
       "(12587, 3)"
      ]
     },
     "execution_count": 43,
     "metadata": {},
     "output_type": "execute_result"
    }
   ],
   "source": [
    "df2.df.shape"
   ]
  },
  {
   "cell_type": "code",
   "execution_count": 44,
   "metadata": {},
   "outputs": [
    {
     "data": {
      "text/html": [
       "<div>\n",
       "<style scoped>\n",
       "    .dataframe tbody tr th:only-of-type {\n",
       "        vertical-align: middle;\n",
       "    }\n",
       "\n",
       "    .dataframe tbody tr th {\n",
       "        vertical-align: top;\n",
       "    }\n",
       "\n",
       "    .dataframe thead th {\n",
       "        text-align: right;\n",
       "    }\n",
       "</style>\n",
       "<table border=\"1\" class=\"dataframe\">\n",
       "  <thead>\n",
       "    <tr style=\"text-align: right;\">\n",
       "      <th></th>\n",
       "      <th>userId</th>\n",
       "      <th>productId</th>\n",
       "      <th>ratings</th>\n",
       "    </tr>\n",
       "  </thead>\n",
       "  <tbody>\n",
       "    <tr>\n",
       "      <th>0</th>\n",
       "      <td>A3BY5KCNQZXV5U</td>\n",
       "      <td>0594451647</td>\n",
       "      <td>5.0</td>\n",
       "    </tr>\n",
       "    <tr>\n",
       "      <th>1</th>\n",
       "      <td>AT09WGFUM934H</td>\n",
       "      <td>0594481813</td>\n",
       "      <td>3.0</td>\n",
       "    </tr>\n",
       "    <tr>\n",
       "      <th>2</th>\n",
       "      <td>A32HSNCNPRUMTR</td>\n",
       "      <td>0970407998</td>\n",
       "      <td>1.0</td>\n",
       "    </tr>\n",
       "    <tr>\n",
       "      <th>3</th>\n",
       "      <td>A17HMM1M7T9PJ1</td>\n",
       "      <td>0970407998</td>\n",
       "      <td>4.0</td>\n",
       "    </tr>\n",
       "    <tr>\n",
       "      <th>4</th>\n",
       "      <td>A3CLWR1UUZT6TG</td>\n",
       "      <td>0972683275</td>\n",
       "      <td>5.0</td>\n",
       "    </tr>\n",
       "  </tbody>\n",
       "</table>\n",
       "</div>"
      ],
      "text/plain": [
       "           userId   productId  ratings\n",
       "0  A3BY5KCNQZXV5U  0594451647      5.0\n",
       "1   AT09WGFUM934H  0594481813      3.0\n",
       "2  A32HSNCNPRUMTR  0970407998      1.0\n",
       "3  A17HMM1M7T9PJ1  0970407998      4.0\n",
       "4  A3CLWR1UUZT6TG  0972683275      5.0"
      ]
     },
     "execution_count": 44,
     "metadata": {},
     "output_type": "execute_result"
    }
   ],
   "source": [
    "df2.df.head()"
   ]
  },
  {
   "cell_type": "code",
   "execution_count": 45,
   "metadata": {},
   "outputs": [],
   "source": [
    "#Split the data into train and test dataset in the ratio 70:30\n",
    "trainset, testset = train_test_split(df2, test_size=0.30, random_state=7)"
   ]
  },
  {
   "cell_type": "code",
   "execution_count": 46,
   "metadata": {},
   "outputs": [
    {
     "name": "stdout",
     "output_type": "stream",
     "text": [
      "Size of trainset: 5054\n",
      "Size of testset: 3777\n"
     ]
    }
   ],
   "source": [
    "print('Size of trainset: {}\\nSize of testset: {}'.format(trainset.n_items, len(testset)))"
   ]
  },
  {
   "cell_type": "code",
   "execution_count": 47,
   "metadata": {},
   "outputs": [],
   "source": [
    "#Creating an instance of Item Similarity based Collaborative Filtering model\n",
    "#Use user_based true/false to switch between user-based or item-based collaborative filtering\n",
    "item_sim_model = KNNWithMeans(k=50, min_k=1, sim_options={'name': 'pearson_baseline', 'user_based': False})"
   ]
  },
  {
   "cell_type": "code",
   "execution_count": 48,
   "metadata": {},
   "outputs": [
    {
     "name": "stdout",
     "output_type": "stream",
     "text": [
      "Estimating biases using als...\n",
      "Computing the pearson_baseline similarity matrix...\n",
      "Done computing similarity matrix.\n"
     ]
    },
    {
     "data": {
      "text/plain": [
       "<surprise.prediction_algorithms.knns.KNNWithMeans at 0x27704136198>"
      ]
     },
     "execution_count": 48,
     "metadata": {},
     "output_type": "execute_result"
    }
   ],
   "source": [
    "#Fit the model on trainset\n",
    "item_sim_model.fit(trainset)"
   ]
  },
  {
   "cell_type": "code",
   "execution_count": 49,
   "metadata": {},
   "outputs": [],
   "source": [
    "#Run the model on testset\n",
    "item_sim_pred = item_sim_model.test(testset)"
   ]
  },
  {
   "cell_type": "code",
   "execution_count": 50,
   "metadata": {},
   "outputs": [
    {
     "data": {
      "text/plain": [
       "[Prediction(uid='A1522TN5FVJL0Y', iid='B00004Z5M1', r_ui=5.0, est=4.818181818181818, details={'actual_k': 0, 'was_impossible': False}),\n",
       " Prediction(uid='A5JLAU2ARJ0BO', iid='B0000UUXB6', r_ui=3.0, est=4.263677639046538, details={'was_impossible': True, 'reason': 'User and/or item is unkown.'}),\n",
       " Prediction(uid='A3OA4DV4L81N1D', iid='B00009KH63', r_ui=4.0, est=3.2857142857142856, details={'actual_k': 0, 'was_impossible': False}),\n",
       " Prediction(uid='A25C2M3QF9G7OQ', iid='B000053HH5', r_ui=5.0, est=4.833333333333333, details={'actual_k': 0, 'was_impossible': False}),\n",
       " Prediction(uid='A2OKRGHIYTBQ6P', iid='B00076RJV0', r_ui=1.0, est=4.666666666666667, details={'actual_k': 0, 'was_impossible': False})]"
      ]
     },
     "execution_count": 50,
     "metadata": {},
     "output_type": "execute_result"
    }
   ],
   "source": [
    "item_sim_pred[0:5]"
   ]
  },
  {
   "cell_type": "code",
   "execution_count": 51,
   "metadata": {},
   "outputs": [],
   "source": [
    "item_df = pd.DataFrame(([[x.uid,x.iid,x.est] for x in item_sim_pred]),\n",
    "                                     columns=[\"userId\",\"productId\",\"est_rating\"])"
   ]
  },
  {
   "cell_type": "code",
   "execution_count": 52,
   "metadata": {},
   "outputs": [
    {
     "data": {
      "text/html": [
       "<div>\n",
       "<style scoped>\n",
       "    .dataframe tbody tr th:only-of-type {\n",
       "        vertical-align: middle;\n",
       "    }\n",
       "\n",
       "    .dataframe tbody tr th {\n",
       "        vertical-align: top;\n",
       "    }\n",
       "\n",
       "    .dataframe thead th {\n",
       "        text-align: right;\n",
       "    }\n",
       "</style>\n",
       "<table border=\"1\" class=\"dataframe\">\n",
       "  <thead>\n",
       "    <tr style=\"text-align: right;\">\n",
       "      <th></th>\n",
       "      <th>userId</th>\n",
       "      <th>productId</th>\n",
       "      <th>est_rating</th>\n",
       "    </tr>\n",
       "  </thead>\n",
       "  <tbody>\n",
       "    <tr>\n",
       "      <th>0</th>\n",
       "      <td>A1522TN5FVJL0Y</td>\n",
       "      <td>B00004Z5M1</td>\n",
       "      <td>4.818182</td>\n",
       "    </tr>\n",
       "    <tr>\n",
       "      <th>1</th>\n",
       "      <td>A5JLAU2ARJ0BO</td>\n",
       "      <td>B0000UUXB6</td>\n",
       "      <td>4.263678</td>\n",
       "    </tr>\n",
       "    <tr>\n",
       "      <th>2</th>\n",
       "      <td>A3OA4DV4L81N1D</td>\n",
       "      <td>B00009KH63</td>\n",
       "      <td>3.285714</td>\n",
       "    </tr>\n",
       "    <tr>\n",
       "      <th>3</th>\n",
       "      <td>A25C2M3QF9G7OQ</td>\n",
       "      <td>B000053HH5</td>\n",
       "      <td>4.833333</td>\n",
       "    </tr>\n",
       "    <tr>\n",
       "      <th>4</th>\n",
       "      <td>A2OKRGHIYTBQ6P</td>\n",
       "      <td>B00076RJV0</td>\n",
       "      <td>4.666667</td>\n",
       "    </tr>\n",
       "  </tbody>\n",
       "</table>\n",
       "</div>"
      ],
      "text/plain": [
       "           userId   productId  est_rating\n",
       "0  A1522TN5FVJL0Y  B00004Z5M1    4.818182\n",
       "1   A5JLAU2ARJ0BO  B0000UUXB6    4.263678\n",
       "2  A3OA4DV4L81N1D  B00009KH63    3.285714\n",
       "3  A25C2M3QF9G7OQ  B000053HH5    4.833333\n",
       "4  A2OKRGHIYTBQ6P  B00076RJV0    4.666667"
      ]
     },
     "execution_count": 52,
     "metadata": {},
     "output_type": "execute_result"
    }
   ],
   "source": [
    "item_df.head()"
   ]
  },
  {
   "cell_type": "code",
   "execution_count": 53,
   "metadata": {
    "scrolled": true
   },
   "outputs": [
    {
     "data": {
      "text/html": [
       "<div>\n",
       "<style scoped>\n",
       "    .dataframe tbody tr th:only-of-type {\n",
       "        vertical-align: middle;\n",
       "    }\n",
       "\n",
       "    .dataframe tbody tr th {\n",
       "        vertical-align: top;\n",
       "    }\n",
       "\n",
       "    .dataframe thead th {\n",
       "        text-align: right;\n",
       "    }\n",
       "</style>\n",
       "<table border=\"1\" class=\"dataframe\">\n",
       "  <thead>\n",
       "    <tr style=\"text-align: right;\">\n",
       "      <th></th>\n",
       "      <th>userId</th>\n",
       "      <th>productId</th>\n",
       "      <th>est_rating</th>\n",
       "    </tr>\n",
       "  </thead>\n",
       "  <tbody>\n",
       "    <tr>\n",
       "      <th>0</th>\n",
       "      <td>A1522TN5FVJL0Y</td>\n",
       "      <td>B00004Z5M1</td>\n",
       "      <td>4.818182</td>\n",
       "    </tr>\n",
       "    <tr>\n",
       "      <th>1</th>\n",
       "      <td>A5JLAU2ARJ0BO</td>\n",
       "      <td>B0000UUXB6</td>\n",
       "      <td>4.263678</td>\n",
       "    </tr>\n",
       "    <tr>\n",
       "      <th>2</th>\n",
       "      <td>A3OA4DV4L81N1D</td>\n",
       "      <td>B00009KH63</td>\n",
       "      <td>3.285714</td>\n",
       "    </tr>\n",
       "    <tr>\n",
       "      <th>3</th>\n",
       "      <td>A25C2M3QF9G7OQ</td>\n",
       "      <td>B000053HH5</td>\n",
       "      <td>4.833333</td>\n",
       "    </tr>\n",
       "    <tr>\n",
       "      <th>4</th>\n",
       "      <td>A2OKRGHIYTBQ6P</td>\n",
       "      <td>B00076RJV0</td>\n",
       "      <td>4.666667</td>\n",
       "    </tr>\n",
       "    <tr>\n",
       "      <th>5</th>\n",
       "      <td>A3872Y2XH0YDX1</td>\n",
       "      <td>B0002CPBUK</td>\n",
       "      <td>4.263678</td>\n",
       "    </tr>\n",
       "    <tr>\n",
       "      <th>6</th>\n",
       "      <td>A2XQYE6TJYROHQ</td>\n",
       "      <td>B0002J27OQ</td>\n",
       "      <td>4.263678</td>\n",
       "    </tr>\n",
       "    <tr>\n",
       "      <th>7</th>\n",
       "      <td>A2XU6J41ZQOJ2V</td>\n",
       "      <td>B00006L3CM</td>\n",
       "      <td>4.263678</td>\n",
       "    </tr>\n",
       "    <tr>\n",
       "      <th>8</th>\n",
       "      <td>A1UQUDT2Q0YENM</td>\n",
       "      <td>B00066IJPQ</td>\n",
       "      <td>3.363636</td>\n",
       "    </tr>\n",
       "    <tr>\n",
       "      <th>9</th>\n",
       "      <td>A2ZR3YTMEEIIZ4</td>\n",
       "      <td>B00067TTY0</td>\n",
       "      <td>3.000000</td>\n",
       "    </tr>\n",
       "    <tr>\n",
       "      <th>10</th>\n",
       "      <td>A3HXGSMCIOZEW8</td>\n",
       "      <td>B00004SQET</td>\n",
       "      <td>4.666667</td>\n",
       "    </tr>\n",
       "    <tr>\n",
       "      <th>11</th>\n",
       "      <td>A231WM2Z2JL0U3</td>\n",
       "      <td>B000023VUL</td>\n",
       "      <td>3.000000</td>\n",
       "    </tr>\n",
       "    <tr>\n",
       "      <th>12</th>\n",
       "      <td>A1GNYV0RA0EQSS</td>\n",
       "      <td>B000063S4J</td>\n",
       "      <td>4.000000</td>\n",
       "    </tr>\n",
       "    <tr>\n",
       "      <th>13</th>\n",
       "      <td>AD8DLOGHAXL</td>\n",
       "      <td>B00025O7FC</td>\n",
       "      <td>3.400000</td>\n",
       "    </tr>\n",
       "    <tr>\n",
       "      <th>14</th>\n",
       "      <td>AYMD77ITD15PT</td>\n",
       "      <td>B0007MWE28</td>\n",
       "      <td>4.500000</td>\n",
       "    </tr>\n",
       "    <tr>\n",
       "      <th>15</th>\n",
       "      <td>A3OXHLG6DIBRW8</td>\n",
       "      <td>B000067S60</td>\n",
       "      <td>4.833333</td>\n",
       "    </tr>\n",
       "    <tr>\n",
       "      <th>16</th>\n",
       "      <td>A1EXGL6L0QQ0M5</td>\n",
       "      <td>B0001MHYK6</td>\n",
       "      <td>4.263678</td>\n",
       "    </tr>\n",
       "    <tr>\n",
       "      <th>17</th>\n",
       "      <td>A32LX4XJ2LU740</td>\n",
       "      <td>B00006B9CR</td>\n",
       "      <td>4.666667</td>\n",
       "    </tr>\n",
       "    <tr>\n",
       "      <th>18</th>\n",
       "      <td>A2IIAQ7VVAHXTD</td>\n",
       "      <td>B00001WRSJ</td>\n",
       "      <td>4.538462</td>\n",
       "    </tr>\n",
       "    <tr>\n",
       "      <th>19</th>\n",
       "      <td>A5JLAU2ARJ0BO</td>\n",
       "      <td>B0002ZQB7O</td>\n",
       "      <td>4.263678</td>\n",
       "    </tr>\n",
       "    <tr>\n",
       "      <th>20</th>\n",
       "      <td>A231WM2Z2JL0U3</td>\n",
       "      <td>B00005A9WZ</td>\n",
       "      <td>4.263678</td>\n",
       "    </tr>\n",
       "    <tr>\n",
       "      <th>21</th>\n",
       "      <td>A1CM4HI4S5P0WO</td>\n",
       "      <td>B0001IM95U</td>\n",
       "      <td>3.000000</td>\n",
       "    </tr>\n",
       "    <tr>\n",
       "      <th>22</th>\n",
       "      <td>A2ED50E3KWKUKW</td>\n",
       "      <td>B000089GN3</td>\n",
       "      <td>4.687500</td>\n",
       "    </tr>\n",
       "    <tr>\n",
       "      <th>23</th>\n",
       "      <td>A259MPG6SOL02P</td>\n",
       "      <td>B00005UK8V</td>\n",
       "      <td>4.263678</td>\n",
       "    </tr>\n",
       "    <tr>\n",
       "      <th>24</th>\n",
       "      <td>A3DQWFWINN3V5A</td>\n",
       "      <td>B0006OIT44</td>\n",
       "      <td>4.000000</td>\n",
       "    </tr>\n",
       "    <tr>\n",
       "      <th>25</th>\n",
       "      <td>AKX9EQ37PAYMY</td>\n",
       "      <td>B00011KM38</td>\n",
       "      <td>4.800000</td>\n",
       "    </tr>\n",
       "    <tr>\n",
       "      <th>26</th>\n",
       "      <td>A3P1508PZ0UADD</td>\n",
       "      <td>B00005UK9P</td>\n",
       "      <td>4.000000</td>\n",
       "    </tr>\n",
       "    <tr>\n",
       "      <th>27</th>\n",
       "      <td>ARBKYIVNYWK3C</td>\n",
       "      <td>B000067RT6</td>\n",
       "      <td>4.870968</td>\n",
       "    </tr>\n",
       "    <tr>\n",
       "      <th>28</th>\n",
       "      <td>A27H61OHW44XA7</td>\n",
       "      <td>B00007E7K9</td>\n",
       "      <td>4.027778</td>\n",
       "    </tr>\n",
       "    <tr>\n",
       "      <th>29</th>\n",
       "      <td>A1JWSDDIH5Z7DV</td>\n",
       "      <td>B00011PYDQ</td>\n",
       "      <td>4.263678</td>\n",
       "    </tr>\n",
       "    <tr>\n",
       "      <th>...</th>\n",
       "      <td>...</td>\n",
       "      <td>...</td>\n",
       "      <td>...</td>\n",
       "    </tr>\n",
       "    <tr>\n",
       "      <th>2811</th>\n",
       "      <td>A3D5B2CBFNJB0K</td>\n",
       "      <td>B00004SZ9V</td>\n",
       "      <td>4.263678</td>\n",
       "    </tr>\n",
       "    <tr>\n",
       "      <th>2812</th>\n",
       "      <td>A2DG63DN704LOI</td>\n",
       "      <td>B00009XVDP</td>\n",
       "      <td>4.000000</td>\n",
       "    </tr>\n",
       "    <tr>\n",
       "      <th>2813</th>\n",
       "      <td>A2ZDY0V4Q1SZD7</td>\n",
       "      <td>B00062UW5A</td>\n",
       "      <td>3.333333</td>\n",
       "    </tr>\n",
       "    <tr>\n",
       "      <th>2814</th>\n",
       "      <td>A3QKIR8J56EUI1</td>\n",
       "      <td>B00008VWOJ</td>\n",
       "      <td>4.263678</td>\n",
       "    </tr>\n",
       "    <tr>\n",
       "      <th>2815</th>\n",
       "      <td>A25C2M3QF9G7OQ</td>\n",
       "      <td>B00009R6V0</td>\n",
       "      <td>4.333333</td>\n",
       "    </tr>\n",
       "    <tr>\n",
       "      <th>2816</th>\n",
       "      <td>A2Y3WWPUKIJ59I</td>\n",
       "      <td>B0002UB2IM</td>\n",
       "      <td>4.263678</td>\n",
       "    </tr>\n",
       "    <tr>\n",
       "      <th>2817</th>\n",
       "      <td>ASCBJEPXTOU0V</td>\n",
       "      <td>B0002GRUWI</td>\n",
       "      <td>4.263678</td>\n",
       "    </tr>\n",
       "    <tr>\n",
       "      <th>2818</th>\n",
       "      <td>AA8RBTN3J2F5H</td>\n",
       "      <td>B0000BZ2WC</td>\n",
       "      <td>5.000000</td>\n",
       "    </tr>\n",
       "    <tr>\n",
       "      <th>2819</th>\n",
       "      <td>A20UU20K7M9ZPF</td>\n",
       "      <td>B00024ENY8</td>\n",
       "      <td>4.263678</td>\n",
       "    </tr>\n",
       "    <tr>\n",
       "      <th>2820</th>\n",
       "      <td>A28525P0S5ZVJ3</td>\n",
       "      <td>B0001FSCWW</td>\n",
       "      <td>4.263678</td>\n",
       "    </tr>\n",
       "    <tr>\n",
       "      <th>2821</th>\n",
       "      <td>AI0BCEWRE04G0</td>\n",
       "      <td>B00007JDRI</td>\n",
       "      <td>4.263678</td>\n",
       "    </tr>\n",
       "    <tr>\n",
       "      <th>2822</th>\n",
       "      <td>A10NMELR4KX0J6</td>\n",
       "      <td>B000067RMT</td>\n",
       "      <td>4.000000</td>\n",
       "    </tr>\n",
       "    <tr>\n",
       "      <th>2823</th>\n",
       "      <td>A2RGA7UGAN3UL7</td>\n",
       "      <td>B0007RV3IE</td>\n",
       "      <td>4.200000</td>\n",
       "    </tr>\n",
       "    <tr>\n",
       "      <th>2824</th>\n",
       "      <td>A386LG0LRWKJZP</td>\n",
       "      <td>B00077AA5Q</td>\n",
       "      <td>4.263678</td>\n",
       "    </tr>\n",
       "    <tr>\n",
       "      <th>2825</th>\n",
       "      <td>A25UZ7MA72SMKM</td>\n",
       "      <td>B00065ANYW</td>\n",
       "      <td>4.750000</td>\n",
       "    </tr>\n",
       "    <tr>\n",
       "      <th>2826</th>\n",
       "      <td>A1VGXHHR08G044</td>\n",
       "      <td>B00006B8C0</td>\n",
       "      <td>4.263678</td>\n",
       "    </tr>\n",
       "    <tr>\n",
       "      <th>2827</th>\n",
       "      <td>A2E1EFNIZL2FVA</td>\n",
       "      <td>B00011CNWG</td>\n",
       "      <td>4.263678</td>\n",
       "    </tr>\n",
       "    <tr>\n",
       "      <th>2828</th>\n",
       "      <td>A2EZTM9WY5B5IL</td>\n",
       "      <td>B0002P19PS</td>\n",
       "      <td>4.000000</td>\n",
       "    </tr>\n",
       "    <tr>\n",
       "      <th>2829</th>\n",
       "      <td>A15XI2BEGGFEOW</td>\n",
       "      <td>B00032AVN6</td>\n",
       "      <td>3.666667</td>\n",
       "    </tr>\n",
       "    <tr>\n",
       "      <th>2830</th>\n",
       "      <td>A3IK2VCQ007CJ</td>\n",
       "      <td>B0000DZEZB</td>\n",
       "      <td>3.333333</td>\n",
       "    </tr>\n",
       "    <tr>\n",
       "      <th>2831</th>\n",
       "      <td>A2X8KN82L07RSK</td>\n",
       "      <td>B0001FV3C8</td>\n",
       "      <td>3.000000</td>\n",
       "    </tr>\n",
       "    <tr>\n",
       "      <th>2832</th>\n",
       "      <td>A3JU16JTNLVK1J</td>\n",
       "      <td>B00009R6TA</td>\n",
       "      <td>5.000000</td>\n",
       "    </tr>\n",
       "    <tr>\n",
       "      <th>2833</th>\n",
       "      <td>A2E1EFNIZL2FVA</td>\n",
       "      <td>B00009R72R</td>\n",
       "      <td>4.263678</td>\n",
       "    </tr>\n",
       "    <tr>\n",
       "      <th>2834</th>\n",
       "      <td>A11R5VW7IM6ISQ</td>\n",
       "      <td>B000068O33</td>\n",
       "      <td>4.666667</td>\n",
       "    </tr>\n",
       "    <tr>\n",
       "      <th>2835</th>\n",
       "      <td>A3SRDVCD2ATIIS</td>\n",
       "      <td>B0002ZPFD0</td>\n",
       "      <td>4.263678</td>\n",
       "    </tr>\n",
       "    <tr>\n",
       "      <th>2836</th>\n",
       "      <td>A3NEAETOSXDBOM</td>\n",
       "      <td>B00006XY1T</td>\n",
       "      <td>4.263678</td>\n",
       "    </tr>\n",
       "    <tr>\n",
       "      <th>2837</th>\n",
       "      <td>A1X1CEGHTHMBL1</td>\n",
       "      <td>B00005V619</td>\n",
       "      <td>4.500000</td>\n",
       "    </tr>\n",
       "    <tr>\n",
       "      <th>2838</th>\n",
       "      <td>A328GLDSDNFYII</td>\n",
       "      <td>B00006L4R2</td>\n",
       "      <td>4.263678</td>\n",
       "    </tr>\n",
       "    <tr>\n",
       "      <th>2839</th>\n",
       "      <td>A132ETQPMHQ585</td>\n",
       "      <td>B000095SB4</td>\n",
       "      <td>4.500000</td>\n",
       "    </tr>\n",
       "    <tr>\n",
       "      <th>2840</th>\n",
       "      <td>A3NHUQ33CFH3VM</td>\n",
       "      <td>B000031KIM</td>\n",
       "      <td>4.750000</td>\n",
       "    </tr>\n",
       "  </tbody>\n",
       "</table>\n",
       "<p>2841 rows × 3 columns</p>\n",
       "</div>"
      ],
      "text/plain": [
       "              userId   productId  est_rating\n",
       "0     A1522TN5FVJL0Y  B00004Z5M1    4.818182\n",
       "1      A5JLAU2ARJ0BO  B0000UUXB6    4.263678\n",
       "2     A3OA4DV4L81N1D  B00009KH63    3.285714\n",
       "3     A25C2M3QF9G7OQ  B000053HH5    4.833333\n",
       "4     A2OKRGHIYTBQ6P  B00076RJV0    4.666667\n",
       "5     A3872Y2XH0YDX1  B0002CPBUK    4.263678\n",
       "6     A2XQYE6TJYROHQ  B0002J27OQ    4.263678\n",
       "7     A2XU6J41ZQOJ2V  B00006L3CM    4.263678\n",
       "8     A1UQUDT2Q0YENM  B00066IJPQ    3.363636\n",
       "9     A2ZR3YTMEEIIZ4  B00067TTY0    3.000000\n",
       "10    A3HXGSMCIOZEW8  B00004SQET    4.666667\n",
       "11    A231WM2Z2JL0U3  B000023VUL    3.000000\n",
       "12    A1GNYV0RA0EQSS  B000063S4J    4.000000\n",
       "13       AD8DLOGHAXL  B00025O7FC    3.400000\n",
       "14     AYMD77ITD15PT  B0007MWE28    4.500000\n",
       "15    A3OXHLG6DIBRW8  B000067S60    4.833333\n",
       "16    A1EXGL6L0QQ0M5  B0001MHYK6    4.263678\n",
       "17    A32LX4XJ2LU740  B00006B9CR    4.666667\n",
       "18    A2IIAQ7VVAHXTD  B00001WRSJ    4.538462\n",
       "19     A5JLAU2ARJ0BO  B0002ZQB7O    4.263678\n",
       "20    A231WM2Z2JL0U3  B00005A9WZ    4.263678\n",
       "21    A1CM4HI4S5P0WO  B0001IM95U    3.000000\n",
       "22    A2ED50E3KWKUKW  B000089GN3    4.687500\n",
       "23    A259MPG6SOL02P  B00005UK8V    4.263678\n",
       "24    A3DQWFWINN3V5A  B0006OIT44    4.000000\n",
       "25     AKX9EQ37PAYMY  B00011KM38    4.800000\n",
       "26    A3P1508PZ0UADD  B00005UK9P    4.000000\n",
       "27     ARBKYIVNYWK3C  B000067RT6    4.870968\n",
       "28    A27H61OHW44XA7  B00007E7K9    4.027778\n",
       "29    A1JWSDDIH5Z7DV  B00011PYDQ    4.263678\n",
       "...              ...         ...         ...\n",
       "2811  A3D5B2CBFNJB0K  B00004SZ9V    4.263678\n",
       "2812  A2DG63DN704LOI  B00009XVDP    4.000000\n",
       "2813  A2ZDY0V4Q1SZD7  B00062UW5A    3.333333\n",
       "2814  A3QKIR8J56EUI1  B00008VWOJ    4.263678\n",
       "2815  A25C2M3QF9G7OQ  B00009R6V0    4.333333\n",
       "2816  A2Y3WWPUKIJ59I  B0002UB2IM    4.263678\n",
       "2817   ASCBJEPXTOU0V  B0002GRUWI    4.263678\n",
       "2818   AA8RBTN3J2F5H  B0000BZ2WC    5.000000\n",
       "2819  A20UU20K7M9ZPF  B00024ENY8    4.263678\n",
       "2820  A28525P0S5ZVJ3  B0001FSCWW    4.263678\n",
       "2821   AI0BCEWRE04G0  B00007JDRI    4.263678\n",
       "2822  A10NMELR4KX0J6  B000067RMT    4.000000\n",
       "2823  A2RGA7UGAN3UL7  B0007RV3IE    4.200000\n",
       "2824  A386LG0LRWKJZP  B00077AA5Q    4.263678\n",
       "2825  A25UZ7MA72SMKM  B00065ANYW    4.750000\n",
       "2826  A1VGXHHR08G044  B00006B8C0    4.263678\n",
       "2827  A2E1EFNIZL2FVA  B00011CNWG    4.263678\n",
       "2828  A2EZTM9WY5B5IL  B0002P19PS    4.000000\n",
       "2829  A15XI2BEGGFEOW  B00032AVN6    3.666667\n",
       "2830   A3IK2VCQ007CJ  B0000DZEZB    3.333333\n",
       "2831  A2X8KN82L07RSK  B0001FV3C8    3.000000\n",
       "2832  A3JU16JTNLVK1J  B00009R6TA    5.000000\n",
       "2833  A2E1EFNIZL2FVA  B00009R72R    4.263678\n",
       "2834  A11R5VW7IM6ISQ  B000068O33    4.666667\n",
       "2835  A3SRDVCD2ATIIS  B0002ZPFD0    4.263678\n",
       "2836  A3NEAETOSXDBOM  B00006XY1T    4.263678\n",
       "2837  A1X1CEGHTHMBL1  B00005V619    4.500000\n",
       "2838  A328GLDSDNFYII  B00006L4R2    4.263678\n",
       "2839  A132ETQPMHQ585  B000095SB4    4.500000\n",
       "2840  A3NHUQ33CFH3VM  B000031KIM    4.750000\n",
       "\n",
       "[2841 rows x 3 columns]"
      ]
     },
     "execution_count": 53,
     "metadata": {},
     "output_type": "execute_result"
    }
   ],
   "source": [
    "#top 5 recommendations using Item Similarity model\n",
    "top_5_recos = item_df.groupby(\"userId\").head(5).reset_index(drop=True)\n",
    "top_5_recos"
   ]
  },
  {
   "cell_type": "code",
   "execution_count": 54,
   "metadata": {},
   "outputs": [
    {
     "name": "stdout",
     "output_type": "stream",
     "text": [
      "\n",
      "RMSE for Item-Similarity based Model :\n",
      "RMSE: 1.2151\n"
     ]
    },
    {
     "data": {
      "text/plain": [
       "1.2150899560041033"
      ]
     },
     "execution_count": 54,
     "metadata": {},
     "output_type": "execute_result"
    }
   ],
   "source": [
    "#Evaluating Item Similarity model\n",
    "#get RMSE value for the model\n",
    "\n",
    "print(\"\\nRMSE for Item-Similarity based Model :\")\n",
    "accuracy.rmse(item_sim_pred, verbose=True)"
   ]
  },
  {
   "cell_type": "code",
   "execution_count": 55,
   "metadata": {},
   "outputs": [],
   "source": [
    "#Creating an instance of User Similarity based Collaborative Filtering model\n",
    "#Use user_based true/false to switch between user-based or item-based collaborative filtering\n",
    "user_sim_model = KNNWithMeans(k=50, min_k=1, sim_options={'name': 'pearson_baseline', 'user_based': True})"
   ]
  },
  {
   "cell_type": "code",
   "execution_count": 56,
   "metadata": {},
   "outputs": [
    {
     "name": "stdout",
     "output_type": "stream",
     "text": [
      "Estimating biases using als...\n",
      "Computing the pearson_baseline similarity matrix...\n",
      "Done computing similarity matrix.\n"
     ]
    },
    {
     "data": {
      "text/plain": [
       "<surprise.prediction_algorithms.knns.KNNWithMeans at 0x2770575ea58>"
      ]
     },
     "execution_count": 56,
     "metadata": {},
     "output_type": "execute_result"
    }
   ],
   "source": [
    "#Fit the model on trainset\n",
    "user_sim_model.fit(trainset)"
   ]
  },
  {
   "cell_type": "code",
   "execution_count": 57,
   "metadata": {},
   "outputs": [],
   "source": [
    "#Run the model on testset\n",
    "user_pred = user_sim_model.test(testset)"
   ]
  },
  {
   "cell_type": "code",
   "execution_count": 58,
   "metadata": {},
   "outputs": [
    {
     "data": {
      "text/plain": [
       "[Prediction(uid='A1522TN5FVJL0Y', iid='B00004Z5M1', r_ui=5.0, est=4.7272727272727275, details={'actual_k': 0, 'was_impossible': False}),\n",
       " Prediction(uid='A5JLAU2ARJ0BO', iid='B0000UUXB6', r_ui=3.0, est=4.263677639046538, details={'was_impossible': True, 'reason': 'User and/or item is unkown.'}),\n",
       " Prediction(uid='A3OA4DV4L81N1D', iid='B00009KH63', r_ui=4.0, est=1.5999999999999996, details={'actual_k': 1, 'was_impossible': False}),\n",
       " Prediction(uid='A25C2M3QF9G7OQ', iid='B000053HH5', r_ui=5.0, est=4.9, details={'actual_k': 0, 'was_impossible': False}),\n",
       " Prediction(uid='A2OKRGHIYTBQ6P', iid='B00076RJV0', r_ui=1.0, est=5, details={'actual_k': 0, 'was_impossible': False})]"
      ]
     },
     "execution_count": 58,
     "metadata": {},
     "output_type": "execute_result"
    }
   ],
   "source": [
    "user_pred[0:5]"
   ]
  },
  {
   "cell_type": "code",
   "execution_count": 59,
   "metadata": {},
   "outputs": [],
   "source": [
    "user_df = pd.DataFrame(([[x.uid,x.iid,x.est] for x in user_pred]),\n",
    "                                     columns=[\"userId\",\"productId\",\"est_rating\"])"
   ]
  },
  {
   "cell_type": "code",
   "execution_count": 60,
   "metadata": {},
   "outputs": [
    {
     "data": {
      "text/html": [
       "<div>\n",
       "<style scoped>\n",
       "    .dataframe tbody tr th:only-of-type {\n",
       "        vertical-align: middle;\n",
       "    }\n",
       "\n",
       "    .dataframe tbody tr th {\n",
       "        vertical-align: top;\n",
       "    }\n",
       "\n",
       "    .dataframe thead th {\n",
       "        text-align: right;\n",
       "    }\n",
       "</style>\n",
       "<table border=\"1\" class=\"dataframe\">\n",
       "  <thead>\n",
       "    <tr style=\"text-align: right;\">\n",
       "      <th></th>\n",
       "      <th>userId</th>\n",
       "      <th>productId</th>\n",
       "      <th>est_rating</th>\n",
       "    </tr>\n",
       "  </thead>\n",
       "  <tbody>\n",
       "    <tr>\n",
       "      <th>0</th>\n",
       "      <td>A1522TN5FVJL0Y</td>\n",
       "      <td>B00004Z5M1</td>\n",
       "      <td>4.727273</td>\n",
       "    </tr>\n",
       "    <tr>\n",
       "      <th>1</th>\n",
       "      <td>A5JLAU2ARJ0BO</td>\n",
       "      <td>B0000UUXB6</td>\n",
       "      <td>4.263678</td>\n",
       "    </tr>\n",
       "    <tr>\n",
       "      <th>2</th>\n",
       "      <td>A3OA4DV4L81N1D</td>\n",
       "      <td>B00009KH63</td>\n",
       "      <td>1.600000</td>\n",
       "    </tr>\n",
       "    <tr>\n",
       "      <th>3</th>\n",
       "      <td>A25C2M3QF9G7OQ</td>\n",
       "      <td>B000053HH5</td>\n",
       "      <td>4.900000</td>\n",
       "    </tr>\n",
       "    <tr>\n",
       "      <th>4</th>\n",
       "      <td>A2OKRGHIYTBQ6P</td>\n",
       "      <td>B00076RJV0</td>\n",
       "      <td>5.000000</td>\n",
       "    </tr>\n",
       "  </tbody>\n",
       "</table>\n",
       "</div>"
      ],
      "text/plain": [
       "           userId   productId  est_rating\n",
       "0  A1522TN5FVJL0Y  B00004Z5M1    4.727273\n",
       "1   A5JLAU2ARJ0BO  B0000UUXB6    4.263678\n",
       "2  A3OA4DV4L81N1D  B00009KH63    1.600000\n",
       "3  A25C2M3QF9G7OQ  B000053HH5    4.900000\n",
       "4  A2OKRGHIYTBQ6P  B00076RJV0    5.000000"
      ]
     },
     "execution_count": 60,
     "metadata": {},
     "output_type": "execute_result"
    }
   ],
   "source": [
    "user_df.head()"
   ]
  },
  {
   "cell_type": "code",
   "execution_count": 61,
   "metadata": {
    "scrolled": true
   },
   "outputs": [
    {
     "data": {
      "text/html": [
       "<div>\n",
       "<style scoped>\n",
       "    .dataframe tbody tr th:only-of-type {\n",
       "        vertical-align: middle;\n",
       "    }\n",
       "\n",
       "    .dataframe tbody tr th {\n",
       "        vertical-align: top;\n",
       "    }\n",
       "\n",
       "    .dataframe thead th {\n",
       "        text-align: right;\n",
       "    }\n",
       "</style>\n",
       "<table border=\"1\" class=\"dataframe\">\n",
       "  <thead>\n",
       "    <tr style=\"text-align: right;\">\n",
       "      <th></th>\n",
       "      <th>userId</th>\n",
       "      <th>productId</th>\n",
       "      <th>est_rating</th>\n",
       "    </tr>\n",
       "  </thead>\n",
       "  <tbody>\n",
       "    <tr>\n",
       "      <th>0</th>\n",
       "      <td>A1522TN5FVJL0Y</td>\n",
       "      <td>B00004Z5M1</td>\n",
       "      <td>4.727273</td>\n",
       "    </tr>\n",
       "    <tr>\n",
       "      <th>1</th>\n",
       "      <td>A5JLAU2ARJ0BO</td>\n",
       "      <td>B0000UUXB6</td>\n",
       "      <td>4.263678</td>\n",
       "    </tr>\n",
       "    <tr>\n",
       "      <th>2</th>\n",
       "      <td>A3OA4DV4L81N1D</td>\n",
       "      <td>B00009KH63</td>\n",
       "      <td>1.600000</td>\n",
       "    </tr>\n",
       "    <tr>\n",
       "      <th>3</th>\n",
       "      <td>A25C2M3QF9G7OQ</td>\n",
       "      <td>B000053HH5</td>\n",
       "      <td>4.900000</td>\n",
       "    </tr>\n",
       "    <tr>\n",
       "      <th>4</th>\n",
       "      <td>A2OKRGHIYTBQ6P</td>\n",
       "      <td>B00076RJV0</td>\n",
       "      <td>5.000000</td>\n",
       "    </tr>\n",
       "    <tr>\n",
       "      <th>5</th>\n",
       "      <td>A3872Y2XH0YDX1</td>\n",
       "      <td>B0002CPBUK</td>\n",
       "      <td>4.263678</td>\n",
       "    </tr>\n",
       "    <tr>\n",
       "      <th>6</th>\n",
       "      <td>A2XQYE6TJYROHQ</td>\n",
       "      <td>B0002J27OQ</td>\n",
       "      <td>4.263678</td>\n",
       "    </tr>\n",
       "    <tr>\n",
       "      <th>7</th>\n",
       "      <td>A2XU6J41ZQOJ2V</td>\n",
       "      <td>B00006L3CM</td>\n",
       "      <td>4.263678</td>\n",
       "    </tr>\n",
       "    <tr>\n",
       "      <th>8</th>\n",
       "      <td>A1UQUDT2Q0YENM</td>\n",
       "      <td>B00066IJPQ</td>\n",
       "      <td>2.000000</td>\n",
       "    </tr>\n",
       "    <tr>\n",
       "      <th>9</th>\n",
       "      <td>A2ZR3YTMEEIIZ4</td>\n",
       "      <td>B00067TTY0</td>\n",
       "      <td>3.925926</td>\n",
       "    </tr>\n",
       "    <tr>\n",
       "      <th>10</th>\n",
       "      <td>A3HXGSMCIOZEW8</td>\n",
       "      <td>B00004SQET</td>\n",
       "      <td>5.000000</td>\n",
       "    </tr>\n",
       "    <tr>\n",
       "      <th>11</th>\n",
       "      <td>A231WM2Z2JL0U3</td>\n",
       "      <td>B000023VUL</td>\n",
       "      <td>4.375723</td>\n",
       "    </tr>\n",
       "    <tr>\n",
       "      <th>12</th>\n",
       "      <td>A1GNYV0RA0EQSS</td>\n",
       "      <td>B000063S4J</td>\n",
       "      <td>5.000000</td>\n",
       "    </tr>\n",
       "    <tr>\n",
       "      <th>13</th>\n",
       "      <td>AD8DLOGHAXL</td>\n",
       "      <td>B00025O7FC</td>\n",
       "      <td>4.333333</td>\n",
       "    </tr>\n",
       "    <tr>\n",
       "      <th>14</th>\n",
       "      <td>AYMD77ITD15PT</td>\n",
       "      <td>B0007MWE28</td>\n",
       "      <td>4.555556</td>\n",
       "    </tr>\n",
       "    <tr>\n",
       "      <th>15</th>\n",
       "      <td>A3OXHLG6DIBRW8</td>\n",
       "      <td>B000067S60</td>\n",
       "      <td>4.206897</td>\n",
       "    </tr>\n",
       "    <tr>\n",
       "      <th>16</th>\n",
       "      <td>A1EXGL6L0QQ0M5</td>\n",
       "      <td>B0001MHYK6</td>\n",
       "      <td>4.263678</td>\n",
       "    </tr>\n",
       "    <tr>\n",
       "      <th>17</th>\n",
       "      <td>A32LX4XJ2LU740</td>\n",
       "      <td>B00006B9CR</td>\n",
       "      <td>5.000000</td>\n",
       "    </tr>\n",
       "    <tr>\n",
       "      <th>18</th>\n",
       "      <td>A2IIAQ7VVAHXTD</td>\n",
       "      <td>B00001WRSJ</td>\n",
       "      <td>4.750000</td>\n",
       "    </tr>\n",
       "    <tr>\n",
       "      <th>19</th>\n",
       "      <td>A5JLAU2ARJ0BO</td>\n",
       "      <td>B0002ZQB7O</td>\n",
       "      <td>4.263678</td>\n",
       "    </tr>\n",
       "    <tr>\n",
       "      <th>20</th>\n",
       "      <td>A231WM2Z2JL0U3</td>\n",
       "      <td>B00005A9WZ</td>\n",
       "      <td>4.263678</td>\n",
       "    </tr>\n",
       "    <tr>\n",
       "      <th>21</th>\n",
       "      <td>A1CM4HI4S5P0WO</td>\n",
       "      <td>B0001IM95U</td>\n",
       "      <td>3.666667</td>\n",
       "    </tr>\n",
       "    <tr>\n",
       "      <th>22</th>\n",
       "      <td>A2ED50E3KWKUKW</td>\n",
       "      <td>B000089GN3</td>\n",
       "      <td>4.000000</td>\n",
       "    </tr>\n",
       "    <tr>\n",
       "      <th>23</th>\n",
       "      <td>A259MPG6SOL02P</td>\n",
       "      <td>B00005UK8V</td>\n",
       "      <td>4.263678</td>\n",
       "    </tr>\n",
       "    <tr>\n",
       "      <th>24</th>\n",
       "      <td>A3DQWFWINN3V5A</td>\n",
       "      <td>B0006OIT44</td>\n",
       "      <td>4.636364</td>\n",
       "    </tr>\n",
       "    <tr>\n",
       "      <th>25</th>\n",
       "      <td>AKX9EQ37PAYMY</td>\n",
       "      <td>B00011KM38</td>\n",
       "      <td>4.500000</td>\n",
       "    </tr>\n",
       "    <tr>\n",
       "      <th>26</th>\n",
       "      <td>A3P1508PZ0UADD</td>\n",
       "      <td>B00005UK9P</td>\n",
       "      <td>3.166667</td>\n",
       "    </tr>\n",
       "    <tr>\n",
       "      <th>27</th>\n",
       "      <td>ARBKYIVNYWK3C</td>\n",
       "      <td>B000067RT6</td>\n",
       "      <td>4.684211</td>\n",
       "    </tr>\n",
       "    <tr>\n",
       "      <th>28</th>\n",
       "      <td>A27H61OHW44XA7</td>\n",
       "      <td>B00007E7K9</td>\n",
       "      <td>4.500000</td>\n",
       "    </tr>\n",
       "    <tr>\n",
       "      <th>29</th>\n",
       "      <td>A1JWSDDIH5Z7DV</td>\n",
       "      <td>B00011PYDQ</td>\n",
       "      <td>4.263678</td>\n",
       "    </tr>\n",
       "    <tr>\n",
       "      <th>...</th>\n",
       "      <td>...</td>\n",
       "      <td>...</td>\n",
       "      <td>...</td>\n",
       "    </tr>\n",
       "    <tr>\n",
       "      <th>2811</th>\n",
       "      <td>A3D5B2CBFNJB0K</td>\n",
       "      <td>B00004SZ9V</td>\n",
       "      <td>4.263678</td>\n",
       "    </tr>\n",
       "    <tr>\n",
       "      <th>2812</th>\n",
       "      <td>A2DG63DN704LOI</td>\n",
       "      <td>B00009XVDP</td>\n",
       "      <td>4.600000</td>\n",
       "    </tr>\n",
       "    <tr>\n",
       "      <th>2813</th>\n",
       "      <td>A2ZDY0V4Q1SZD7</td>\n",
       "      <td>B00062UW5A</td>\n",
       "      <td>5.000000</td>\n",
       "    </tr>\n",
       "    <tr>\n",
       "      <th>2814</th>\n",
       "      <td>A3QKIR8J56EUI1</td>\n",
       "      <td>B00008VWOJ</td>\n",
       "      <td>4.263678</td>\n",
       "    </tr>\n",
       "    <tr>\n",
       "      <th>2815</th>\n",
       "      <td>A25C2M3QF9G7OQ</td>\n",
       "      <td>B00009R6V0</td>\n",
       "      <td>4.900000</td>\n",
       "    </tr>\n",
       "    <tr>\n",
       "      <th>2816</th>\n",
       "      <td>A2Y3WWPUKIJ59I</td>\n",
       "      <td>B0002UB2IM</td>\n",
       "      <td>4.263678</td>\n",
       "    </tr>\n",
       "    <tr>\n",
       "      <th>2817</th>\n",
       "      <td>ASCBJEPXTOU0V</td>\n",
       "      <td>B0002GRUWI</td>\n",
       "      <td>4.263678</td>\n",
       "    </tr>\n",
       "    <tr>\n",
       "      <th>2818</th>\n",
       "      <td>AA8RBTN3J2F5H</td>\n",
       "      <td>B0000BZ2WC</td>\n",
       "      <td>4.000000</td>\n",
       "    </tr>\n",
       "    <tr>\n",
       "      <th>2819</th>\n",
       "      <td>A20UU20K7M9ZPF</td>\n",
       "      <td>B00024ENY8</td>\n",
       "      <td>4.263678</td>\n",
       "    </tr>\n",
       "    <tr>\n",
       "      <th>2820</th>\n",
       "      <td>A28525P0S5ZVJ3</td>\n",
       "      <td>B0001FSCWW</td>\n",
       "      <td>4.263678</td>\n",
       "    </tr>\n",
       "    <tr>\n",
       "      <th>2821</th>\n",
       "      <td>AI0BCEWRE04G0</td>\n",
       "      <td>B00007JDRI</td>\n",
       "      <td>4.263678</td>\n",
       "    </tr>\n",
       "    <tr>\n",
       "      <th>2822</th>\n",
       "      <td>A10NMELR4KX0J6</td>\n",
       "      <td>B000067RMT</td>\n",
       "      <td>4.000000</td>\n",
       "    </tr>\n",
       "    <tr>\n",
       "      <th>2823</th>\n",
       "      <td>A2RGA7UGAN3UL7</td>\n",
       "      <td>B0007RV3IE</td>\n",
       "      <td>5.000000</td>\n",
       "    </tr>\n",
       "    <tr>\n",
       "      <th>2824</th>\n",
       "      <td>A386LG0LRWKJZP</td>\n",
       "      <td>B00077AA5Q</td>\n",
       "      <td>4.263678</td>\n",
       "    </tr>\n",
       "    <tr>\n",
       "      <th>2825</th>\n",
       "      <td>A25UZ7MA72SMKM</td>\n",
       "      <td>B00065ANYW</td>\n",
       "      <td>4.600000</td>\n",
       "    </tr>\n",
       "    <tr>\n",
       "      <th>2826</th>\n",
       "      <td>A1VGXHHR08G044</td>\n",
       "      <td>B00006B8C0</td>\n",
       "      <td>4.263678</td>\n",
       "    </tr>\n",
       "    <tr>\n",
       "      <th>2827</th>\n",
       "      <td>A2E1EFNIZL2FVA</td>\n",
       "      <td>B00011CNWG</td>\n",
       "      <td>4.263678</td>\n",
       "    </tr>\n",
       "    <tr>\n",
       "      <th>2828</th>\n",
       "      <td>A2EZTM9WY5B5IL</td>\n",
       "      <td>B0002P19PS</td>\n",
       "      <td>3.800000</td>\n",
       "    </tr>\n",
       "    <tr>\n",
       "      <th>2829</th>\n",
       "      <td>A15XI2BEGGFEOW</td>\n",
       "      <td>B00032AVN6</td>\n",
       "      <td>4.000000</td>\n",
       "    </tr>\n",
       "    <tr>\n",
       "      <th>2830</th>\n",
       "      <td>A3IK2VCQ007CJ</td>\n",
       "      <td>B0000DZEZB</td>\n",
       "      <td>5.000000</td>\n",
       "    </tr>\n",
       "    <tr>\n",
       "      <th>2831</th>\n",
       "      <td>A2X8KN82L07RSK</td>\n",
       "      <td>B0001FV3C8</td>\n",
       "      <td>4.000000</td>\n",
       "    </tr>\n",
       "    <tr>\n",
       "      <th>2832</th>\n",
       "      <td>A3JU16JTNLVK1J</td>\n",
       "      <td>B00009R6TA</td>\n",
       "      <td>4.800000</td>\n",
       "    </tr>\n",
       "    <tr>\n",
       "      <th>2833</th>\n",
       "      <td>A2E1EFNIZL2FVA</td>\n",
       "      <td>B00009R72R</td>\n",
       "      <td>4.263678</td>\n",
       "    </tr>\n",
       "    <tr>\n",
       "      <th>2834</th>\n",
       "      <td>A11R5VW7IM6ISQ</td>\n",
       "      <td>B000068O33</td>\n",
       "      <td>4.833333</td>\n",
       "    </tr>\n",
       "    <tr>\n",
       "      <th>2835</th>\n",
       "      <td>A3SRDVCD2ATIIS</td>\n",
       "      <td>B0002ZPFD0</td>\n",
       "      <td>4.263678</td>\n",
       "    </tr>\n",
       "    <tr>\n",
       "      <th>2836</th>\n",
       "      <td>A3NEAETOSXDBOM</td>\n",
       "      <td>B00006XY1T</td>\n",
       "      <td>4.263678</td>\n",
       "    </tr>\n",
       "    <tr>\n",
       "      <th>2837</th>\n",
       "      <td>A1X1CEGHTHMBL1</td>\n",
       "      <td>B00005V619</td>\n",
       "      <td>4.714286</td>\n",
       "    </tr>\n",
       "    <tr>\n",
       "      <th>2838</th>\n",
       "      <td>A328GLDSDNFYII</td>\n",
       "      <td>B00006L4R2</td>\n",
       "      <td>4.263678</td>\n",
       "    </tr>\n",
       "    <tr>\n",
       "      <th>2839</th>\n",
       "      <td>A132ETQPMHQ585</td>\n",
       "      <td>B000095SB4</td>\n",
       "      <td>5.000000</td>\n",
       "    </tr>\n",
       "    <tr>\n",
       "      <th>2840</th>\n",
       "      <td>A3NHUQ33CFH3VM</td>\n",
       "      <td>B000031KIM</td>\n",
       "      <td>4.555556</td>\n",
       "    </tr>\n",
       "  </tbody>\n",
       "</table>\n",
       "<p>2841 rows × 3 columns</p>\n",
       "</div>"
      ],
      "text/plain": [
       "              userId   productId  est_rating\n",
       "0     A1522TN5FVJL0Y  B00004Z5M1    4.727273\n",
       "1      A5JLAU2ARJ0BO  B0000UUXB6    4.263678\n",
       "2     A3OA4DV4L81N1D  B00009KH63    1.600000\n",
       "3     A25C2M3QF9G7OQ  B000053HH5    4.900000\n",
       "4     A2OKRGHIYTBQ6P  B00076RJV0    5.000000\n",
       "5     A3872Y2XH0YDX1  B0002CPBUK    4.263678\n",
       "6     A2XQYE6TJYROHQ  B0002J27OQ    4.263678\n",
       "7     A2XU6J41ZQOJ2V  B00006L3CM    4.263678\n",
       "8     A1UQUDT2Q0YENM  B00066IJPQ    2.000000\n",
       "9     A2ZR3YTMEEIIZ4  B00067TTY0    3.925926\n",
       "10    A3HXGSMCIOZEW8  B00004SQET    5.000000\n",
       "11    A231WM2Z2JL0U3  B000023VUL    4.375723\n",
       "12    A1GNYV0RA0EQSS  B000063S4J    5.000000\n",
       "13       AD8DLOGHAXL  B00025O7FC    4.333333\n",
       "14     AYMD77ITD15PT  B0007MWE28    4.555556\n",
       "15    A3OXHLG6DIBRW8  B000067S60    4.206897\n",
       "16    A1EXGL6L0QQ0M5  B0001MHYK6    4.263678\n",
       "17    A32LX4XJ2LU740  B00006B9CR    5.000000\n",
       "18    A2IIAQ7VVAHXTD  B00001WRSJ    4.750000\n",
       "19     A5JLAU2ARJ0BO  B0002ZQB7O    4.263678\n",
       "20    A231WM2Z2JL0U3  B00005A9WZ    4.263678\n",
       "21    A1CM4HI4S5P0WO  B0001IM95U    3.666667\n",
       "22    A2ED50E3KWKUKW  B000089GN3    4.000000\n",
       "23    A259MPG6SOL02P  B00005UK8V    4.263678\n",
       "24    A3DQWFWINN3V5A  B0006OIT44    4.636364\n",
       "25     AKX9EQ37PAYMY  B00011KM38    4.500000\n",
       "26    A3P1508PZ0UADD  B00005UK9P    3.166667\n",
       "27     ARBKYIVNYWK3C  B000067RT6    4.684211\n",
       "28    A27H61OHW44XA7  B00007E7K9    4.500000\n",
       "29    A1JWSDDIH5Z7DV  B00011PYDQ    4.263678\n",
       "...              ...         ...         ...\n",
       "2811  A3D5B2CBFNJB0K  B00004SZ9V    4.263678\n",
       "2812  A2DG63DN704LOI  B00009XVDP    4.600000\n",
       "2813  A2ZDY0V4Q1SZD7  B00062UW5A    5.000000\n",
       "2814  A3QKIR8J56EUI1  B00008VWOJ    4.263678\n",
       "2815  A25C2M3QF9G7OQ  B00009R6V0    4.900000\n",
       "2816  A2Y3WWPUKIJ59I  B0002UB2IM    4.263678\n",
       "2817   ASCBJEPXTOU0V  B0002GRUWI    4.263678\n",
       "2818   AA8RBTN3J2F5H  B0000BZ2WC    4.000000\n",
       "2819  A20UU20K7M9ZPF  B00024ENY8    4.263678\n",
       "2820  A28525P0S5ZVJ3  B0001FSCWW    4.263678\n",
       "2821   AI0BCEWRE04G0  B00007JDRI    4.263678\n",
       "2822  A10NMELR4KX0J6  B000067RMT    4.000000\n",
       "2823  A2RGA7UGAN3UL7  B0007RV3IE    5.000000\n",
       "2824  A386LG0LRWKJZP  B00077AA5Q    4.263678\n",
       "2825  A25UZ7MA72SMKM  B00065ANYW    4.600000\n",
       "2826  A1VGXHHR08G044  B00006B8C0    4.263678\n",
       "2827  A2E1EFNIZL2FVA  B00011CNWG    4.263678\n",
       "2828  A2EZTM9WY5B5IL  B0002P19PS    3.800000\n",
       "2829  A15XI2BEGGFEOW  B00032AVN6    4.000000\n",
       "2830   A3IK2VCQ007CJ  B0000DZEZB    5.000000\n",
       "2831  A2X8KN82L07RSK  B0001FV3C8    4.000000\n",
       "2832  A3JU16JTNLVK1J  B00009R6TA    4.800000\n",
       "2833  A2E1EFNIZL2FVA  B00009R72R    4.263678\n",
       "2834  A11R5VW7IM6ISQ  B000068O33    4.833333\n",
       "2835  A3SRDVCD2ATIIS  B0002ZPFD0    4.263678\n",
       "2836  A3NEAETOSXDBOM  B00006XY1T    4.263678\n",
       "2837  A1X1CEGHTHMBL1  B00005V619    4.714286\n",
       "2838  A328GLDSDNFYII  B00006L4R2    4.263678\n",
       "2839  A132ETQPMHQ585  B000095SB4    5.000000\n",
       "2840  A3NHUQ33CFH3VM  B000031KIM    4.555556\n",
       "\n",
       "[2841 rows x 3 columns]"
      ]
     },
     "execution_count": 61,
     "metadata": {},
     "output_type": "execute_result"
    }
   ],
   "source": [
    "#top 5 recommendations using User Similarity model\n",
    "top_5_recos = user_df.groupby(\"userId\").head(5).reset_index(drop=True)\n",
    "top_5_recos"
   ]
  },
  {
   "cell_type": "code",
   "execution_count": 62,
   "metadata": {},
   "outputs": [
    {
     "name": "stdout",
     "output_type": "stream",
     "text": [
      "\n",
      "RMSE for User-Similarity based Model :\n",
      "RMSE: 1.1349\n"
     ]
    },
    {
     "data": {
      "text/plain": [
       "1.134880939070227"
      ]
     },
     "execution_count": 62,
     "metadata": {},
     "output_type": "execute_result"
    }
   ],
   "source": [
    "#Evaluating User Similarity based model\n",
    "#get RMSE value for the model\n",
    "print(\"\\nRMSE for User-Similarity based Model :\")\n",
    "accuracy.rmse(user_pred, verbose=True)"
   ]
  },
  {
   "cell_type": "markdown",
   "metadata": {},
   "source": [
    "#### Observations on Item and User based models:\n",
    "- The RMSE of Item-based Similarity approach is 1.22 for a neighborhhod size of 50 using the KNNWithMeans algorithm and Pearson-Correlation Similarity measure\n",
    "- The RMSE of User-based Similarity approach is 1.013 for a neighborhhod size of 50 using the KNNWithMeans algorithm and Pearson-Correlation Similarity measure\n",
    "- RMSE of Item Similarity based approach is more compared to User Similarity based approach"
   ]
  },
  {
   "cell_type": "code",
   "execution_count": null,
   "metadata": {},
   "outputs": [],
   "source": []
  }
 ],
 "metadata": {
  "kernelspec": {
   "display_name": "Python 3",
   "language": "python",
   "name": "python3"
  },
  "language_info": {
   "codemirror_mode": {
    "name": "ipython",
    "version": 3
   },
   "file_extension": ".py",
   "mimetype": "text/x-python",
   "name": "python",
   "nbconvert_exporter": "python",
   "pygments_lexer": "ipython3",
   "version": "3.7.3"
  }
 },
 "nbformat": 4,
 "nbformat_minor": 2
}
