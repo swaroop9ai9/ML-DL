{
 "cells": [
  {
   "cell_type": "code",
   "execution_count": 1,
   "metadata": {
    "_cell_guid": "b1076dfc-b9ad-4769-8c92-a6c4dae69d19",
    "_uuid": "8f2839f25d086af736a60e9eeb907d3b93b6e0e5"
   },
   "outputs": [
    {
     "name": "stderr",
     "output_type": "stream",
     "text": [
      "Using TensorFlow backend.\n"
     ]
    },
    {
     "name": "stdout",
     "output_type": "stream",
     "text": [
      "Negative: (100, 75, 3)\n",
      "Positive: (100, 75, 3)\n",
      "(20000,) (20000,)\n",
      "(40000, 3)\n"
     ]
    }
   ],
   "source": [
    "# This Python 3 environment comes with many helpful analytics libraries installed\n",
    "# It is defined by the kaggle/python docker image: https://github.com/kaggle/docker-python\n",
    "# For example, here's several helpful packages to load in \n",
    "\n",
    "import numpy as np # linear algebra\n",
    "import pandas as pd # data processing, CSV file I/O (e.g. pd.read_csv)\n",
    "import numpy as np \n",
    "import pandas as pd \n",
    "import matplotlib.pyplot as plt\n",
    "%matplotlib inline\n",
    "\n",
    "import os\n",
    "import itertools\n",
    "from glob import glob\n",
    "from PIL import Image\n",
    "\n",
    "from sklearn.metrics import confusion_matrix\n",
    "from sklearn.model_selection import train_test_split\n",
    "\n",
    "from keras.models import Sequential\n",
    "from keras.layers import Dense, Dropout, Flatten, Conv2D, MaxPool2D\n",
    "from keras.layers.normalization import BatchNormalization\n",
    "# Input data files are available in the \"../input/\" directory.\n",
    "# For example, running this (by clicking run or pressing Shift+Enter) will list all files under the input directory\n",
    "\n",
    "# dataframe  id  label  image-array\n",
    "\n",
    "base_crack_Negative = \"/kaggle/input/surface-crack-detection/Negative\"\n",
    "base_crack_Positive = \"/kaggle/input/surface-crack-detection/Positive\"\n",
    "\n",
    "crack_Negative_df = pd.DataFrame(columns=( 'path', 'image', 'label'),index=np.arange(0,20000))\n",
    "crack_Positive_df = pd.DataFrame(columns=( 'path', 'image', 'label'),index=np.arange(0,20000))\n",
    "\n",
    "imageid_path_dict_Negative = np.array([x for x in glob(os.path.join(base_crack_Negative, '*.jpg'))])\n",
    "imageid_path_dict_Positive = np.array([x for x in glob(os.path.join(base_crack_Positive, '*.jpg'))])\n",
    "\n",
    "crack_Negative_df['path']=imageid_path_dict_Negative\n",
    "crack_Negative_df['label']=0\n",
    "crack_Negative_df['image']=crack_Negative_df['path'].map(lambda x: np.asarray(Image.open(x).resize((75,100))))\n",
    "\n",
    "crack_Positive_df['path']=imageid_path_dict_Positive\n",
    "crack_Positive_df['label']=1\n",
    "crack_Positive_df['image']=crack_Positive_df['path'].map(lambda x: np.asarray(Image.open(x).resize((75,100))))\n",
    "\n",
    "print(\"Negative:\",crack_Negative_df[\"image\"][0].shape)\n",
    "print(\"Positive:\",crack_Positive_df[\"image\"][0].shape)\n",
    "\n",
    "print(imageid_path_dict_Negative.shape,imageid_path_dict_Positive.shape)\n",
    "\n",
    "crack_df = crack_Negative_df.append(crack_Positive_df)  # 将两个dataframe合并\n",
    "crack_df.reset_index(drop=True,inplace=True)  # 重置检索\n",
    "print(crack_df.shape)"
   ]
  },
  {
   "cell_type": "code",
   "execution_count": 2,
   "metadata": {},
   "outputs": [],
   "source": [
    "features=crack_df.drop(columns=['label'],axis=1)\n",
    "target=crack_df[\"label\"]\n",
    "\n",
    "x_train_o, x_test_o, y_train, y_test = train_test_split(features, target, test_size=0.20,random_state=1234)\n",
    "\n",
    "x_train = np.asarray(x_train_o['image'].tolist())\n",
    "x_test = np.asarray(x_test_o['image'].tolist())\n",
    "\n",
    "x_train_mean = np.mean(x_train)\n",
    "x_train_std = np.std(x_train)\n",
    "\n",
    "x_test_mean = np.mean(x_test)\n",
    "x_test_std = np.std(x_test)\n",
    "\n",
    "x_train = (x_train - x_train_mean)/x_train_std\n",
    "x_test = (x_test - x_test_mean)/x_test_std\n",
    "\n",
    "# Reshape image in 3 dimensions (height = 100px, width = 100px , canal = 3)\n",
    "x_train = x_train.reshape(x_train.shape[0], *(75, 100, 3))\n",
    "x_test = x_test.reshape(x_test.shape[0], *(75, 100, 3))"
   ]
  },
  {
   "cell_type": "code",
   "execution_count": 3,
   "metadata": {},
   "outputs": [
    {
     "name": "stdout",
     "output_type": "stream",
     "text": [
      "Model: \"sequential_1\"\n",
      "_________________________________________________________________\n",
      "Layer (type)                 Output Shape              Param #   \n",
      "=================================================================\n",
      "conv2d_1 (Conv2D)            (None, 75, 100, 32)       896       \n",
      "_________________________________________________________________\n",
      "conv2d_2 (Conv2D)            (None, 75, 100, 32)       9248      \n",
      "_________________________________________________________________\n",
      "max_pooling2d_1 (MaxPooling2 (None, 37, 50, 32)        0         \n",
      "_________________________________________________________________\n",
      "dropout_1 (Dropout)          (None, 37, 50, 32)        0         \n",
      "_________________________________________________________________\n",
      "conv2d_3 (Conv2D)            (None, 37, 50, 64)        18496     \n",
      "_________________________________________________________________\n",
      "conv2d_4 (Conv2D)            (None, 37, 50, 64)        36928     \n",
      "_________________________________________________________________\n",
      "max_pooling2d_2 (MaxPooling2 (None, 18, 25, 64)        0         \n",
      "_________________________________________________________________\n",
      "dropout_2 (Dropout)          (None, 18, 25, 64)        0         \n",
      "_________________________________________________________________\n",
      "flatten_1 (Flatten)          (None, 28800)             0         \n",
      "_________________________________________________________________\n",
      "dense_1 (Dense)              (None, 128)               3686528   \n",
      "_________________________________________________________________\n",
      "dropout_3 (Dropout)          (None, 128)               0         \n",
      "_________________________________________________________________\n",
      "dense_2 (Dense)              (None, 1)                 129       \n",
      "=================================================================\n",
      "Total params: 3,752,225\n",
      "Trainable params: 3,752,225\n",
      "Non-trainable params: 0\n",
      "_________________________________________________________________\n",
      "Train on 28800 samples, validate on 3200 samples\n",
      "Epoch 1/50\n",
      "28800/28800 [==============================] - 39s 1ms/step - loss: 0.2806 - accuracy: 0.8849 - val_loss: 0.0396 - val_accuracy: 0.9878\n",
      "Epoch 2/50\n",
      "28800/28800 [==============================] - 13s 466us/step - loss: 0.0409 - accuracy: 0.9915 - val_loss: 0.0243 - val_accuracy: 0.9919\n",
      "Epoch 3/50\n",
      "28800/28800 [==============================] - 13s 466us/step - loss: 0.0297 - accuracy: 0.9936 - val_loss: 0.0241 - val_accuracy: 0.9919\n",
      "Epoch 4/50\n",
      "28800/28800 [==============================] - 13s 464us/step - loss: 0.0270 - accuracy: 0.9949 - val_loss: 0.0191 - val_accuracy: 0.9941\n",
      "Epoch 5/50\n",
      "28800/28800 [==============================] - 13s 463us/step - loss: 0.0220 - accuracy: 0.9954 - val_loss: 0.0149 - val_accuracy: 0.9941\n",
      "Epoch 6/50\n",
      "28800/28800 [==============================] - 13s 463us/step - loss: 0.0187 - accuracy: 0.9952 - val_loss: 0.0194 - val_accuracy: 0.9953\n",
      "Epoch 7/50\n",
      "28800/28800 [==============================] - 13s 462us/step - loss: 0.0169 - accuracy: 0.9957 - val_loss: 0.0194 - val_accuracy: 0.9944\n",
      "Epoch 8/50\n",
      "28800/28800 [==============================] - 13s 463us/step - loss: 0.0160 - accuracy: 0.9958 - val_loss: 0.0182 - val_accuracy: 0.9928\n",
      "Epoch 9/50\n",
      "28800/28800 [==============================] - 13s 465us/step - loss: 0.0159 - accuracy: 0.9960 - val_loss: 0.0186 - val_accuracy: 0.9953\n",
      "Epoch 10/50\n",
      "28800/28800 [==============================] - 13s 467us/step - loss: 0.0141 - accuracy: 0.9962 - val_loss: 0.0198 - val_accuracy: 0.9953\n",
      "Epoch 11/50\n",
      "28800/28800 [==============================] - 13s 461us/step - loss: 0.0133 - accuracy: 0.9964 - val_loss: 0.0154 - val_accuracy: 0.9956\n",
      "Epoch 12/50\n",
      "28800/28800 [==============================] - 13s 465us/step - loss: 0.0107 - accuracy: 0.9977 - val_loss: 0.0168 - val_accuracy: 0.9950\n",
      "Epoch 13/50\n",
      "28800/28800 [==============================] - 13s 463us/step - loss: 0.0132 - accuracy: 0.9966 - val_loss: 0.0201 - val_accuracy: 0.9950\n",
      "Epoch 14/50\n",
      "28800/28800 [==============================] - 13s 463us/step - loss: 0.0115 - accuracy: 0.9972 - val_loss: 0.0140 - val_accuracy: 0.9969\n",
      "Epoch 15/50\n",
      "28800/28800 [==============================] - 13s 461us/step - loss: 0.0091 - accuracy: 0.9977 - val_loss: 0.0174 - val_accuracy: 0.9953\n",
      "Epoch 16/50\n",
      "28800/28800 [==============================] - 13s 463us/step - loss: 0.0108 - accuracy: 0.9973 - val_loss: 0.0179 - val_accuracy: 0.9953\n",
      "Epoch 17/50\n",
      "28800/28800 [==============================] - 13s 464us/step - loss: 0.0096 - accuracy: 0.9977 - val_loss: 0.0175 - val_accuracy: 0.9966\n",
      "Epoch 18/50\n",
      "28800/28800 [==============================] - 13s 462us/step - loss: 0.0091 - accuracy: 0.9981 - val_loss: 0.0146 - val_accuracy: 0.9962\n",
      "Epoch 19/50\n",
      "28800/28800 [==============================] - 14s 470us/step - loss: 0.0095 - accuracy: 0.9979 - val_loss: 0.0159 - val_accuracy: 0.9966\n",
      "Epoch 20/50\n",
      "28800/28800 [==============================] - 13s 464us/step - loss: 0.0069 - accuracy: 0.9986 - val_loss: 0.0119 - val_accuracy: 0.9966\n",
      "Epoch 21/50\n",
      "28800/28800 [==============================] - 13s 461us/step - loss: 0.0071 - accuracy: 0.9983 - val_loss: 0.0286 - val_accuracy: 0.9931\n",
      "Epoch 22/50\n",
      "28800/28800 [==============================] - 13s 462us/step - loss: 0.0060 - accuracy: 0.9986 - val_loss: 0.0178 - val_accuracy: 0.9972\n",
      "Epoch 23/50\n",
      "28800/28800 [==============================] - 13s 460us/step - loss: 0.0058 - accuracy: 0.9985 - val_loss: 0.0159 - val_accuracy: 0.9966\n",
      "Epoch 24/50\n",
      "28800/28800 [==============================] - 13s 466us/step - loss: 0.0063 - accuracy: 0.9986 - val_loss: 0.0125 - val_accuracy: 0.9959\n",
      "Epoch 25/50\n",
      "28800/28800 [==============================] - 13s 465us/step - loss: 0.0058 - accuracy: 0.9990 - val_loss: 0.0129 - val_accuracy: 0.9956\n",
      "Epoch 26/50\n",
      "28800/28800 [==============================] - 13s 463us/step - loss: 0.0048 - accuracy: 0.9991 - val_loss: 0.0126 - val_accuracy: 0.9972\n",
      "Epoch 27/50\n",
      "28800/28800 [==============================] - 13s 461us/step - loss: 0.0047 - accuracy: 0.9990 - val_loss: 0.0315 - val_accuracy: 0.9959\n",
      "Epoch 28/50\n",
      "28800/28800 [==============================] - 13s 466us/step - loss: 0.0055 - accuracy: 0.9988 - val_loss: 0.0179 - val_accuracy: 0.9972\n",
      "Epoch 29/50\n",
      "28800/28800 [==============================] - 13s 463us/step - loss: 0.0048 - accuracy: 0.9991 - val_loss: 0.0166 - val_accuracy: 0.9966\n",
      "Epoch 30/50\n",
      "28800/28800 [==============================] - 13s 460us/step - loss: 0.0034 - accuracy: 0.9993 - val_loss: 0.0216 - val_accuracy: 0.9972\n",
      "Epoch 31/50\n",
      "28800/28800 [==============================] - 13s 464us/step - loss: 0.0060 - accuracy: 0.9989 - val_loss: 0.0140 - val_accuracy: 0.9962\n",
      "Epoch 32/50\n",
      "28800/28800 [==============================] - 13s 462us/step - loss: 0.0033 - accuracy: 0.9994 - val_loss: 0.0155 - val_accuracy: 0.9972\n",
      "Epoch 33/50\n",
      "28800/28800 [==============================] - 13s 459us/step - loss: 0.0072 - accuracy: 0.9983 - val_loss: 0.0201 - val_accuracy: 0.9950\n",
      "Epoch 34/50\n",
      "28800/28800 [==============================] - 13s 468us/step - loss: 0.0085 - accuracy: 0.9976 - val_loss: 0.0191 - val_accuracy: 0.9962\n",
      "Epoch 35/50\n",
      "28800/28800 [==============================] - 13s 463us/step - loss: 0.0034 - accuracy: 0.9994 - val_loss: 0.0122 - val_accuracy: 0.9966\n",
      "Epoch 36/50\n",
      "28800/28800 [==============================] - 13s 464us/step - loss: 0.0075 - accuracy: 0.9982 - val_loss: 0.0406 - val_accuracy: 0.9903\n",
      "Epoch 37/50\n",
      "28800/28800 [==============================] - 13s 466us/step - loss: 0.0055 - accuracy: 0.9986 - val_loss: 0.0201 - val_accuracy: 0.9956\n",
      "Epoch 38/50\n",
      "28800/28800 [==============================] - 14s 470us/step - loss: 0.0034 - accuracy: 0.9994 - val_loss: 0.0182 - val_accuracy: 0.9972\n",
      "Epoch 39/50\n",
      "28800/28800 [==============================] - 13s 464us/step - loss: 0.0054 - accuracy: 0.9986 - val_loss: 0.0217 - val_accuracy: 0.9966\n",
      "Epoch 40/50\n",
      "28800/28800 [==============================] - 13s 468us/step - loss: 0.0033 - accuracy: 0.9993 - val_loss: 0.0194 - val_accuracy: 0.9966\n",
      "Epoch 41/50\n",
      "28800/28800 [==============================] - 14s 477us/step - loss: 0.0029 - accuracy: 0.9995 - val_loss: 0.0157 - val_accuracy: 0.9975\n",
      "Epoch 42/50\n",
      "28800/28800 [==============================] - 13s 468us/step - loss: 0.0018 - accuracy: 1.0000 - val_loss: 0.0155 - val_accuracy: 0.9969\n",
      "Epoch 43/50\n",
      "28800/28800 [==============================] - 13s 468us/step - loss: 0.0022 - accuracy: 0.9997 - val_loss: 0.0210 - val_accuracy: 0.9972\n",
      "Epoch 44/50\n",
      "28800/28800 [==============================] - 13s 463us/step - loss: 0.0033 - accuracy: 0.9994 - val_loss: 0.0107 - val_accuracy: 0.9969\n",
      "Epoch 45/50\n",
      "28800/28800 [==============================] - 13s 464us/step - loss: 0.0030 - accuracy: 0.9995 - val_loss: 0.0180 - val_accuracy: 0.9966\n",
      "Epoch 46/50\n",
      "28800/28800 [==============================] - 13s 465us/step - loss: 0.0023 - accuracy: 0.9997 - val_loss: 0.0192 - val_accuracy: 0.9969\n",
      "Epoch 47/50\n",
      "28800/28800 [==============================] - 13s 460us/step - loss: 0.0019 - accuracy: 0.9997 - val_loss: 0.0162 - val_accuracy: 0.9969\n",
      "Epoch 48/50\n",
      "28800/28800 [==============================] - 13s 463us/step - loss: 0.0018 - accuracy: 0.9999 - val_loss: 0.0156 - val_accuracy: 0.9975\n",
      "Epoch 49/50\n",
      "28800/28800 [==============================] - 13s 464us/step - loss: 0.0018 - accuracy: 0.9998 - val_loss: 0.0219 - val_accuracy: 0.9972\n",
      "Epoch 50/50\n",
      "28800/28800 [==============================] - 13s 465us/step - loss: 0.0017 - accuracy: 0.9997 - val_loss: 0.0165 - val_accuracy: 0.9975\n"
     ]
    },
    {
     "data": {
      "text/plain": [
       "<keras.callbacks.callbacks.History at 0x7fe4d02d9f28>"
      ]
     },
     "execution_count": 3,
     "metadata": {},
     "output_type": "execute_result"
    }
   ],
   "source": [
    "# my CNN architechture is In -> [[Conv2D->relu]*2 -> MaxPool2D -> Dropout]*2 -> Flatten -> Dense -> Dropout -> Out\n",
    "input_shape = (75, 100, 3)\n",
    "\n",
    "model = Sequential()\n",
    "model.add(Conv2D(32, kernel_size=(3, 3),activation='relu',padding = 'Same',input_shape=input_shape))\n",
    "model.add(Conv2D(32,kernel_size=(3, 3), activation='relu',padding = 'Same',))\n",
    "model.add(MaxPool2D(pool_size = (2, 2)))\n",
    "model.add(Dropout(0.25))\n",
    "\n",
    "model.add(Conv2D(64, (3, 3), activation='relu',padding = 'Same'))\n",
    "model.add(Conv2D(64, (3, 3), activation='relu',padding = 'Same'))\n",
    "model.add(MaxPool2D(pool_size=(2, 2)))\n",
    "model.add(Dropout(0.40))\n",
    "\n",
    "model.add(Flatten())\n",
    "model.add(Dense(128, activation='relu'))\n",
    "model.add(Dropout(0.5))\n",
    "model.add(Dense(1, activation='sigmoid'))\n",
    "model.summary()\n",
    "\n",
    "model.compile(optimizer='adam',loss='binary_crossentropy',metrics=['accuracy'])\n",
    "\n",
    "model.fit(x_train, y_train, validation_split=0.1,epochs=50, batch_size=256)"
   ]
  },
  {
   "cell_type": "code",
   "execution_count": 4,
   "metadata": {},
   "outputs": [
    {
     "name": "stdout",
     "output_type": "stream",
     "text": [
      "{'val_loss': [0.039595840275287626, 0.024331978056579828, 0.024134850371629, 0.0191456307657063, 0.014891339857131243, 0.019414883647114037, 0.019429104179143907, 0.018184790834784508, 0.018607299054274336, 0.019766603861935437, 0.015409505129791796, 0.016752012139186263, 0.02010565755190328, 0.013999527189880609, 0.017398129552602767, 0.017871028780937194, 0.017484988990181593, 0.014555347603745758, 0.015933991628699004, 0.011874864196870475, 0.028579190499149264, 0.01784604474902153, 0.015915357070043684, 0.0125163808837533, 0.012901369133032858, 0.0125788768613711, 0.03152864969590155, 0.017938529293605825, 0.016571820344579463, 0.02158523300618981, 0.014023652087780647, 0.015462790589954239, 0.020131911714561284, 0.019084872153616744, 0.012245066240429878, 0.040568278655409816, 0.020052812329959126, 0.018211002203752286, 0.021700347527512348, 0.019412993992737028, 0.015700197397673036, 0.015524399170608376, 0.020953569401463028, 0.01074206460863934, 0.017973135047359392, 0.01919364010116624, 0.01616566575190518, 0.015558230093010933, 0.021914684069733993, 0.0164710875430319], 'val_accuracy': [0.9878125190734863, 0.9918749928474426, 0.9918749928474426, 0.9940624833106995, 0.9940624833106995, 0.995312511920929, 0.9943749904632568, 0.9928125143051147, 0.995312511920929, 0.995312511920929, 0.9956250190734863, 0.9950000047683716, 0.9950000047683716, 0.996874988079071, 0.995312511920929, 0.995312511920929, 0.9965624809265137, 0.9962499737739563, 0.9965624809265137, 0.9965624809265137, 0.9931250214576721, 0.9971874952316284, 0.9965624809265137, 0.9959375262260437, 0.9956250190734863, 0.9971874952316284, 0.9959375262260437, 0.9971874952316284, 0.9965624809265137, 0.9971874952316284, 0.9962499737739563, 0.9971874952316284, 0.9950000047683716, 0.9962499737739563, 0.9965624809265137, 0.9903125166893005, 0.9956250190734863, 0.9971874952316284, 0.9965624809265137, 0.9965624809265137, 0.9975000023841858, 0.996874988079071, 0.9971874952316284, 0.996874988079071, 0.9965624809265137, 0.996874988079071, 0.996874988079071, 0.9975000023841858, 0.9971874952316284, 0.9975000023841858], 'loss': [0.2806197361813651, 0.04093041739116112, 0.02971633625527223, 0.02700463173290094, 0.02195243295489086, 0.018652967676106427, 0.016889086367251973, 0.015968940895464686, 0.015935188154172567, 0.014062619137888154, 0.013311818653924598, 0.010674108079272425, 0.013208333271452122, 0.011507756382408035, 0.00909180981805548, 0.010841388139847873, 0.009589734019504654, 0.009139657167252154, 0.009521672007006904, 0.006866761160652257, 0.007085727480136686, 0.005956802048021927, 0.0058284092228212915, 0.00632400117141919, 0.00584962626427619, 0.004776597543370574, 0.00473678238119141, 0.00553626852650066, 0.004776531512001788, 0.0034498321763627854, 0.005993757864473284, 0.0033037378730336464, 0.007240324920668273, 0.008497231574947363, 0.003358555397668776, 0.007468207593806761, 0.00547955663544902, 0.0033526845061310775, 0.005407167552556429, 0.0032988190906730274, 0.002870711841322999, 0.0018342304147179473, 0.00217986938531289, 0.0032738867757972105, 0.00296891696948377, 0.002294385092494243, 0.0019125556463303736, 0.0018031988058732572, 0.0018066704719406819, 0.001743382490169299], 'accuracy': [0.8848611, 0.99149305, 0.9936111, 0.9948958, 0.99541664, 0.9952431, 0.99569446, 0.99583334, 0.99600697, 0.99618053, 0.9963889, 0.9977083, 0.9965625, 0.9971528, 0.99774307, 0.9973264, 0.99767363, 0.998125, 0.99788195, 0.9985764, 0.9982986, 0.9986111, 0.99850696, 0.99864584, 0.99895835, 0.9991319, 0.99899304, 0.9988195, 0.9990972, 0.99927086, 0.99885416, 0.9994444, 0.9982639, 0.9976389, 0.99940974, 0.99822915, 0.99864584, 0.9994444, 0.99864584, 0.9993403, 0.99951386, 0.99996525, 0.99972224, 0.999375, 0.99951386, 0.9996528, 0.99972224, 0.99993056, 0.9998264, 0.9996528]}\n"
     ]
    }
   ],
   "source": [
    "history = model.history\n",
    "print(history.history)"
   ]
  },
  {
   "cell_type": "code",
   "execution_count": 5,
   "metadata": {},
   "outputs": [
    {
     "data": {
      "image/png": "[encoded data removed]",
      "text/plain": [
       "<Figure size 432x288 with 1 Axes>"
      ]
     },
     "metadata": {
      "needs_background": "light"
     },
     "output_type": "display_data"
    }
   ],
   "source": [
    "fig, ax = plt.subplots()\n",
    "\n",
    "ax.plot(history.history['accuracy'],label='training accuracy')\n",
    "ax.plot(history.history['val_accuracy'],label='val accuracy')\n",
    "\n",
    "ax.set_title('model accuracy',{'size':16})\n",
    "ax.set_xlabel('epoch',{'size':16})\n",
    "ax.set_ylabel('accuracy',{'size':16})\n",
    "              \n",
    "plt.tick_params(labelsize=14)\n",
    "plt.legend(loc='lower right')\n",
    "plt.tight_layout()\n",
    "plt.show()"
   ]
  },
  {
   "cell_type": "code",
   "execution_count": 6,
   "metadata": {},
   "outputs": [
    {
     "data": {
      "image/png": "[encoded data removed]",
      "text/plain": [
       "<Figure size 432x288 with 1 Axes>"
      ]
     },
     "metadata": {
      "needs_background": "light"
     },
     "output_type": "display_data"
    }
   ],
   "source": [
    "fig, ax = plt.subplots()\n",
    "\n",
    "ax.plot(history.history['loss'],label='training loss')\n",
    "ax.plot(history.history['val_loss'],label='val loss')\n",
    "\n",
    "ax.set_title('model loss',{'size':16})\n",
    "ax.set_xlabel('epoch',{'size':16})\n",
    "ax.set_ylabel('loss',{'size':16})\n",
    "              \n",
    "plt.tick_params(labelsize=14)\n",
    "plt.legend(loc='upper right')\n",
    "plt.tight_layout()\n",
    "plt.show()"
   ]
  },
  {
   "cell_type": "code",
   "execution_count": 7,
   "metadata": {},
   "outputs": [
    {
     "name": "stdout",
     "output_type": "stream",
     "text": [
      "confusion_matrix\n",
      " [[3958    3]\n",
      " [  17 4022]]\n",
      "accuracy:0.9975\n",
      "precision:0.9992546583850932\n",
      "recall:0.9957910373854915\n",
      "f1-score:0.9975198412698413\n"
     ]
    },
    {
     "data": {
      "text/plain": [
       "Text(33.0, 0.5, 'True')"
      ]
     },
     "execution_count": 7,
     "metadata": {},
     "output_type": "execute_result"
    },
    {
     "data": {
      "image/png": "[encoded data removed]",
      "text/plain": [
       "<Figure size 432x288 with 2 Axes>"
      ]
     },
     "metadata": {
      "needs_background": "light"
     },
     "output_type": "display_data"
    }
   ],
   "source": [
    "from sklearn.preprocessing import label_binarize\n",
    "from sklearn.metrics import confusion_matrix, precision_score, accuracy_score,recall_score, f1_score,roc_auc_score\n",
    "\n",
    "y_score = model.predict_classes(x_test)\n",
    "y_score_1 = model.predict(x_test)\n",
    "\n",
    "import seaborn as sns\n",
    "%matplotlib inline\n",
    "cm = confusion_matrix(y_test, y_score)\n",
    "print('confusion_matrix\\n', cm)\n",
    "\n",
    "print('accuracy:{}'.format(accuracy_score(y_test, y_score)))\n",
    "print('precision:{}'.format(precision_score(y_test, y_score)))\n",
    "print('recall:{}'.format(recall_score(y_test, y_score)))\n",
    "print('f1-score:{}'.format(f1_score(y_test, y_score)))\n",
    "\n",
    "f,ax=plt.subplots()\n",
    "sns.heatmap(cm,annot=True,ax=ax,fmt='.4g') #画热力图\n",
    "\n",
    "ax.set_title('confusion matrix',fontsize=16) #标题\n",
    "ax.set_xlabel('Predict',fontsize=16) #x轴\n",
    "ax.set_ylabel('True',fontsize=16) #y轴"
   ]
  },
  {
   "cell_type": "code",
   "execution_count": 8,
   "metadata": {},
   "outputs": [
    {
     "data": {
      "image/png": "[encoded data removed]",
      "text/plain": [
       "<Figure size 360x316.8 with 1 Axes>"
      ]
     },
     "metadata": {
      "needs_background": "light"
     },
     "output_type": "display_data"
    }
   ],
   "source": [
    "from sklearn.metrics import roc_curve\n",
    "import matplotlib.pyplot as plt\n",
    "%matplotlib inline\n",
    "\n",
    "fig, ax = plt.subplots(figsize=(5, 4.4))\n",
    "# AUC值\n",
    "auc = roc_auc_score(y_test,y_score_1)\n",
    "# 画ROC曲线\n",
    "fpr, tpr, thresholds = roc_curve(y_test,y_score_1)   \n",
    "ax.plot(fpr, tpr, linewidth = 2,label='AUC=%.4f' % auc)\n",
    "ax.plot([0,1],[0,1], 'k--')\n",
    "\n",
    "\n",
    "ax.set_xlim(0, 1)\n",
    "ax.set_ylim(0, 1)\n",
    "ax.set_xlabel('False Postivie Rate',{'size':16})\n",
    "ax.set_ylabel('True Positive Rate',{'size':16})\n",
    "\n",
    "ax.plot([0,1],[0,1], 'k--',lw=2)\n",
    "\n",
    "plt.tick_params(labelsize=14)\n",
    "\n",
    "plt.legend()\n",
    "plt.tight_layout()\n",
    "plt.show()"
   ]
  },
  {
   "cell_type": "code",
   "execution_count": 9,
   "metadata": {},
   "outputs": [
    {
     "data": {
      "text/plain": [
       "array([[1.0000000e+00],\n",
       "       [0.0000000e+00],\n",
       "       [2.9802322e-08],\n",
       "       ...,\n",
       "       [0.0000000e+00],\n",
       "       [5.9604645e-08],\n",
       "       [1.0000000e+00]], dtype=float32)"
      ]
     },
     "execution_count": 9,
     "metadata": {},
     "output_type": "execute_result"
    }
   ],
   "source": [
    "y_score_1"
   ]
  },
  {
   "cell_type": "code",
   "execution_count": null,
   "metadata": {},
   "outputs": [],
   "source": []
  },
  {
   "cell_type": "code",
   "execution_count": null,
   "metadata": {},
   "outputs": [],
   "source": []
  }
 ],
 "metadata": {
  "kernelspec": {
   "display_name": "Python 3",
   "language": "python",
   "name": "python3"
  },
  "language_info": {
   "codemirror_mode": {
    "name": "ipython",
    "version": 3
   },
   "file_extension": ".py",
   "mimetype": "text/x-python",
   "name": "python",
   "nbconvert_exporter": "python",
   "pygments_lexer": "ipython3",
   "version": "3.6.6"
  }
 },
 "nbformat": 4,
 "nbformat_minor": 1
}
